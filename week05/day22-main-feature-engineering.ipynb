{
 "cells": [
  {
   "cell_type": "code",
   "execution_count": 1,
   "id": "0455083a",
   "metadata": {},
   "outputs": [
    {
     "data": {
      "text/html": [
       "<div>\n",
       "<style scoped>\n",
       "    .dataframe tbody tr th:only-of-type {\n",
       "        vertical-align: middle;\n",
       "    }\n",
       "\n",
       "    .dataframe tbody tr th {\n",
       "        vertical-align: top;\n",
       "    }\n",
       "\n",
       "    .dataframe thead th {\n",
       "        text-align: right;\n",
       "    }\n",
       "</style>\n",
       "<table border=\"1\" class=\"dataframe\">\n",
       "  <thead>\n",
       "    <tr style=\"text-align: right;\">\n",
       "      <th></th>\n",
       "      <th>order_id</th>\n",
       "      <th>customer_name</th>\n",
       "      <th>order_info</th>\n",
       "      <th>order_date</th>\n",
       "      <th>total_amount</th>\n",
       "      <th>info</th>\n",
       "    </tr>\n",
       "  </thead>\n",
       "  <tbody>\n",
       "    <tr>\n",
       "      <th>0</th>\n",
       "      <td>1001</td>\n",
       "      <td>김철수</td>\n",
       "      <td>{\"items\": [{\"name\": \"아메리카노\", \"size\": \"Large\", ...</td>\n",
       "      <td>2024-05-01</td>\n",
       "      <td>8500</td>\n",
       "      <td>{'items': [{'name': '아메리카노', 'size': 'Large', ...</td>\n",
       "    </tr>\n",
       "  </tbody>\n",
       "</table>\n",
       "</div>"
      ],
      "text/plain": [
       "   order_id customer_name                                         order_info  \\\n",
       "0      1001           김철수  {\"items\": [{\"name\": \"아메리카노\", \"size\": \"Large\", ...   \n",
       "\n",
       "   order_date  total_amount                                               info  \n",
       "0  2024-05-01          8500  {'items': [{'name': '아메리카노', 'size': 'Large', ...  "
      ]
     },
     "execution_count": 1,
     "metadata": {},
     "output_type": "execute_result"
    }
   ],
   "source": [
    "from pathlib import Path\n",
    "import pandas as pd\n",
    "import json\n",
    "\n",
    "# 흐름 / 파일 경로 지정\n",
    "data_dir = Path(\"../week04/data\")\n",
    "orders_path = data_dir / \"claude_orders.csv\"\n",
    "\n",
    "# 조건 / 경로 존재하는지 확인\n",
    "assert data_dir.exists(), \"❌ data 폴더가 존재하지 않습니다\"\n",
    "assert orders_path.exists(), \"❌ claude_orders.csv 파일이 없습니다\"\n",
    "\n",
    "# 흐름 / CSV 로드\n",
    "df = pd.read_csv(orders_path)\n",
    "\n",
    "# 조건 / 데이터가 비어있는지 확인\n",
    "assert not df.empty, \"❌ 데이터프레임이 비어있습니다\"\n",
    "\n",
    "# 흐름 / JSON 컬럼 파싱\n",
    "df[\"info\"] = df[\"order_info\"].apply(json.loads)\n",
    "\n"
   ]
  },
  {
   "cell_type": "code",
   "execution_count": null,
   "id": "f4f9901a",
   "metadata": {},
   "outputs": [],
   "source": [
    "## 직접실습\n",
    "\n",
    "df[\"price_category\"] = df[\"info\"].apply(lambda x: \"고가\" if x.get(\"items\",[{}])[0].get(\"price\",0) >= 10000\n",
    "                                        else \"중가\" if x.get(\"items\",[{}])[0].get(\"price\",0) >= 5000\n",
    "                                        else \"저가\")\n",
    "\n",
    "df[\"visit_grade\"] = df[\"info\"].apply(lambda x: \"단골\" if x.get(\"customer\",{}).get(\"visit_count\", 0) >= 15\n",
    "                                     else \"일반\" if x.get(\"customer\",{}).get(\"visit_count\", 0) >= 5\n",
    "                                     else \"신규\")"
   ]
  },
  {
   "cell_type": "code",
   "execution_count": null,
   "id": "0851a26c",
   "metadata": {},
   "outputs": [],
   "source": [
    "# ✅ assert로 파생 컬럼 결과 검증\n",
    "\n",
    "# 기대되는 결과 (예시값으로 테스트, 실제 데이터에 따라 수정 가능)\n",
    "expected_prices = [\"고가\", \"중가\", \"저가\", \"고가\", \"중가\"]\n",
    "expected_grades = [\"단골\", \"일반\", \"신규\", \"단골\", \"일반\"]\n",
    "\n",
    "# 파생 컬럼 결과가 예상과 일치하는지 검증\n",
    "assert df[\"price_category\"].tolist()[:5] == expected_prices, \"❌ price_category 값이 예상과 다릅니다.\"\n",
    "assert df[\"visit_grade\"].tolist()[:5] == expected_grades, \"❌ visit_grade 값이 예상과 다릅니다.\"\n",
    "\n",
    "print(\"✅ assert 검증 완료! 예상대로 파생 컬럼 생성됨.\")\n"
   ]
  }
 ],
 "metadata": {
  "kernelspec": {
   "display_name": "Python 3",
   "language": "python",
   "name": "python3"
  },
  "language_info": {
   "codemirror_mode": {
    "name": "ipython",
    "version": 3
   },
   "file_extension": ".py",
   "mimetype": "text/x-python",
   "name": "python",
   "nbconvert_exporter": "python",
   "pygments_lexer": "ipython3",
   "version": "3.12.5"
  }
 },
 "nbformat": 4,
 "nbformat_minor": 5
}
