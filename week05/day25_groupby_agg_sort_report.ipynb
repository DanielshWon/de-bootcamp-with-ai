{
 "cells": [
  {
   "cell_type": "code",
   "execution_count": 1,
   "id": "ae093969",
   "metadata": {},
   "outputs": [],
   "source": [
    "import pandas as pd\n",
    "\n",
    "# 흐름: 실습용 주문 데이터 생성 후 CSV 파일로 저장\n",
    "# 조건: category, sales, quantity 컬럼 포함\n",
    "# 이유: groupby + agg 실습을 위한 기반 데이터 마련\n",
    "\n",
    "data = {\n",
    "    'order_id': [101, 102, 103, 104, 105, 106],\n",
    "    'customer': ['Alice', 'Bob', 'Alice', 'Daniel', 'Bob', 'Alice'],\n",
    "    'category': ['Coffee', 'Tea', 'Coffee', 'Juice', 'Coffee', 'Juice'],\n",
    "    'sales': [5000, 3000, 8000, 2000, 7000, 2500],\n",
    "    'quantity': [2, 1, 3, 1, 2, 1]\n",
    "}\n",
    "\n",
    "orders_df = pd.DataFrame(data)\n",
    "\n",
    "# CSV로 저장 (index 제외)\n",
    "orders_df.to_csv(\"orders_sample.csv\", index=False)\n"
   ]
  },
  {
   "cell_type": "code",
   "execution_count": 4,
   "id": "e08d123a",
   "metadata": {},
   "outputs": [
    {
     "data": {
      "text/html": [
       "<div>\n",
       "<style scoped>\n",
       "    .dataframe tbody tr th:only-of-type {\n",
       "        vertical-align: middle;\n",
       "    }\n",
       "\n",
       "    .dataframe tbody tr th {\n",
       "        vertical-align: top;\n",
       "    }\n",
       "\n",
       "    .dataframe thead tr th {\n",
       "        text-align: left;\n",
       "    }\n",
       "\n",
       "    .dataframe thead tr:last-of-type th {\n",
       "        text-align: right;\n",
       "    }\n",
       "</style>\n",
       "<table border=\"1\" class=\"dataframe\">\n",
       "  <thead>\n",
       "    <tr>\n",
       "      <th></th>\n",
       "      <th colspan=\"2\" halign=\"left\">sales</th>\n",
       "      <th>quantity</th>\n",
       "    </tr>\n",
       "    <tr>\n",
       "      <th></th>\n",
       "      <th>sum</th>\n",
       "      <th>mean</th>\n",
       "      <th>max</th>\n",
       "    </tr>\n",
       "    <tr>\n",
       "      <th>category</th>\n",
       "      <th></th>\n",
       "      <th></th>\n",
       "      <th></th>\n",
       "    </tr>\n",
       "  </thead>\n",
       "  <tbody>\n",
       "    <tr>\n",
       "      <th>Coffee</th>\n",
       "      <td>20000</td>\n",
       "      <td>6666.666667</td>\n",
       "      <td>3</td>\n",
       "    </tr>\n",
       "    <tr>\n",
       "      <th>Juice</th>\n",
       "      <td>4500</td>\n",
       "      <td>2250.000000</td>\n",
       "      <td>1</td>\n",
       "    </tr>\n",
       "    <tr>\n",
       "      <th>Tea</th>\n",
       "      <td>3000</td>\n",
       "      <td>3000.000000</td>\n",
       "      <td>1</td>\n",
       "    </tr>\n",
       "  </tbody>\n",
       "</table>\n",
       "</div>"
      ],
      "text/plain": [
       "          sales              quantity\n",
       "            sum         mean      max\n",
       "category                             \n",
       "Coffee    20000  6666.666667        3\n",
       "Juice      4500  2250.000000        1\n",
       "Tea        3000  3000.000000        1"
      ]
     },
     "execution_count": 4,
     "metadata": {},
     "output_type": "execute_result"
    }
   ],
   "source": [
    "# 이건 오류는 안 나지만 원하는 구조 아님\n",
    "orders_df.groupby('category')[['sales', 'quantity']].agg(['sum', 'mean'])\n",
    "\n",
    "# 딕셔너리 방식: 열마다 통계 다르게 적용 가능\n",
    "orders_df.groupby('category').agg({\n",
    "    'sales': ['sum', 'mean'],\n",
    "    'quantity': ['max']\n",
    "})\n"
   ]
  },
  {
   "cell_type": "code",
   "execution_count": 5,
   "id": "48a53da9",
   "metadata": {},
   "outputs": [
    {
     "name": "stdout",
     "output_type": "stream",
     "text": [
      "          sales              quantity\n",
      "            sum         mean      max\n",
      "category                             \n",
      "Coffee    20000  6666.666667        3\n",
      "Juice      4500  2250.000000        1\n",
      "Tea        3000  3000.000000        1\n"
     ]
    }
   ],
   "source": [
    "# 흐름: 저장된 주문 데이터를 로드한 뒤, 카테고리별 요약 통계 계산\n",
    "# 조건: sales는 합계+평균, quantity는 최대값\n",
    "# 이유: 리포트 생성 및 분석용 통계 추출\n",
    "\n",
    "df = pd.read_csv(\"orders_sample.csv\")\n",
    "\n",
    "# groupby + agg 딕셔너리 방식 적용\n",
    "summary = df.groupby('category').agg({\n",
    "    'sales': ['sum', 'mean'],\n",
    "    'quantity': ['max']\n",
    "})\n",
    "\n",
    "# 결과 출력 (일단 raw 형태로 확인)\n",
    "print(summary)"
   ]
  },
  {
   "cell_type": "code",
   "execution_count": 6,
   "id": "20b027e6",
   "metadata": {},
   "outputs": [
    {
     "name": "stdout",
     "output_type": "stream",
     "text": [
      "  category  total_sales    avg_sales  max_quantity\n",
      "0   Coffee        20000  6666.666667             3\n",
      "1    Juice         4500  2250.000000             1\n",
      "2      Tea         3000  3000.000000             1\n"
     ]
    }
   ],
   "source": [
    "# 흐름: groupby + agg 결과를 정렬하고 컬럼명을 깔끔하게 정리\n",
    "# 조건: total_sales 기준 내림차순 정렬, 컬럼명은 1단 구조로 변경\n",
    "# 이유: 리포트에 바로 넣을 수 있는 형태로 만들기 위함\n",
    "\n",
    "# 1. 컬럼명 재정의\n",
    "summary.columns = ['total_sales', 'avg_sales', 'max_quantity']  # 1단 컬럼으로 변환\n",
    "\n",
    "# 2. 인덱스 리셋 (category가 index에 있으므로 일반 컬럼으로 변경)\n",
    "summary = summary.reset_index()\n",
    "\n",
    "# 3. 정렬: total_sales 기준 내림차순\n",
    "summary = summary.sort_values(by='total_sales', ascending=False)\n",
    "\n",
    "# 4. 저장\n",
    "summary.to_csv(\"category_sales_report.csv\", index=False)\n",
    "\n",
    "# 5. 결과 확인\n",
    "print(summary)\n"
   ]
  }
 ],
 "metadata": {
  "kernelspec": {
   "display_name": "Python 3",
   "language": "python",
   "name": "python3"
  },
  "language_info": {
   "codemirror_mode": {
    "name": "ipython",
    "version": 3
   },
   "file_extension": ".py",
   "mimetype": "text/x-python",
   "name": "python",
   "nbconvert_exporter": "python",
   "pygments_lexer": "ipython3",
   "version": "3.12.5"
  }
 },
 "nbformat": 4,
 "nbformat_minor": 5
}
