{
 "cells": [
  {
   "cell_type": "code",
   "execution_count": 3,
   "id": "8d7cc976",
   "metadata": {},
   "outputs": [],
   "source": [
    "from pathlib import Path\n",
    "import pandas as pd\n",
    "import json\n",
    "\n",
    "# 흐름 / 파일 경로 지정\n",
    "data_dir = Path(\"../week04/data\")\n",
    "orders_path = data_dir / \"claude_orders.csv\"\n",
    "\n",
    "# 조건 / 경로 존재하는지 확인\n",
    "assert data_dir.exists(), \"❌ data 폴더가 존재하지 않습니다\"\n",
    "assert orders_path.exists(), \"❌ claude_orders.csv 파일이 없습니다\"\n",
    "\n",
    "# 1. 파일 로드\n",
    "df = pd.read_csv(orders_path)\n",
    "\n",
    "# 2. order_info 파싱\n",
    "df[\"info\"] = df[\"order_info\"].apply(json.loads)\n",
    "\n",
    "# 3. price, visit_count 추출해서 컬럼 추가\n",
    "# → price_category, visit_grade 등등\n",
    "\n",
    "# 4. groupby 실습\n",
    "# → 나이대, 결제수단 등 기준으로 묶어서 집계\n"
   ]
  },
  {
   "cell_type": "code",
   "execution_count": 9,
   "id": "22eb5fde",
   "metadata": {},
   "outputs": [],
   "source": [
    "df[\"price_category\"] = df[\"info\"].apply(lambda x: \"고가\" if x.get(\"items\",[{}])[0].get(\"price\",0) >= 10000\n",
    "                                        else \"중가\" if x.get(\"items\",[{}])[0].get(\"price\",0) >= 5000\n",
    "                                        else \"저가\")\n",
    "\n",
    "df[\"visit_grade\"] = df[\"info\"].apply(lambda x: \"단골\" if x.get(\"customer\",{}).get(\"visit_count\", 0) >= 15\n",
    "                                     else \"일반\" if x.get(\"customer\",{}).get(\"visit_count\", 0) >= 5\n",
    "                                     else \"신규\")\n",
    "\n",
    "df[\"age_group\"] = df[\"info\"].apply(lambda x: x.get(\"customer\", {}).get(\"age_group\"))\n",
    "\n",
    "df[\"payment_method\"] = df[\"info\"].apply(lambda x: x.get(\"payment\", {}).get(\"method\"))"
   ]
  },
  {
   "cell_type": "code",
   "execution_count": 8,
   "id": "67a7a527",
   "metadata": {},
   "outputs": [
    {
     "data": {
      "text/plain": [
       "age_group\n",
       "20s    6500.0\n",
       "30s    7250.0\n",
       "40s    9600.0\n",
       "Name: total_amount, dtype: float64"
      ]
     },
     "execution_count": 8,
     "metadata": {},
     "output_type": "execute_result"
    }
   ],
   "source": [
    "# 조건 / 기준: 나이대(age_group)별\n",
    "# 계산: 총 주문 금액의 평균\n",
    "\n",
    "df.groupby(\"age_group\")[\"total_amount\"].mean()\n"
   ]
  },
  {
   "cell_type": "code",
   "execution_count": 10,
   "id": "0c0de8c0",
   "metadata": {},
   "outputs": [
    {
     "data": {
      "text/plain": [
       "payment_method\n",
       "card        22600\n",
       "cash         4800\n",
       "naverpay     9700\n",
       "Name: total_amount, dtype: int64"
      ]
     },
     "execution_count": 10,
     "metadata": {},
     "output_type": "execute_result"
    }
   ],
   "source": [
    "df.groupby(\"payment_method\")[\"total_amount\"].sum()\n"
   ]
  },
  {
   "cell_type": "code",
   "execution_count": 11,
   "id": "8a6bb847",
   "metadata": {},
   "outputs": [
    {
     "data": {
      "text/html": [
       "<div>\n",
       "<style scoped>\n",
       "    .dataframe tbody tr th:only-of-type {\n",
       "        vertical-align: middle;\n",
       "    }\n",
       "\n",
       "    .dataframe tbody tr th {\n",
       "        vertical-align: top;\n",
       "    }\n",
       "\n",
       "    .dataframe thead th {\n",
       "        text-align: right;\n",
       "    }\n",
       "</style>\n",
       "<table border=\"1\" class=\"dataframe\">\n",
       "  <thead>\n",
       "    <tr style=\"text-align: right;\">\n",
       "      <th></th>\n",
       "      <th></th>\n",
       "      <th>count</th>\n",
       "      <th>sum</th>\n",
       "      <th>mean</th>\n",
       "    </tr>\n",
       "    <tr>\n",
       "      <th>age_group</th>\n",
       "      <th>payment_method</th>\n",
       "      <th></th>\n",
       "      <th></th>\n",
       "      <th></th>\n",
       "    </tr>\n",
       "  </thead>\n",
       "  <tbody>\n",
       "    <tr>\n",
       "      <th>20s</th>\n",
       "      <th>card</th>\n",
       "      <td>2</td>\n",
       "      <td>13000</td>\n",
       "      <td>6500.0</td>\n",
       "    </tr>\n",
       "    <tr>\n",
       "      <th rowspan=\"2\" valign=\"top\">30s</th>\n",
       "      <th>cash</th>\n",
       "      <td>1</td>\n",
       "      <td>4800</td>\n",
       "      <td>4800.0</td>\n",
       "    </tr>\n",
       "    <tr>\n",
       "      <th>naverpay</th>\n",
       "      <td>1</td>\n",
       "      <td>9700</td>\n",
       "      <td>9700.0</td>\n",
       "    </tr>\n",
       "    <tr>\n",
       "      <th>40s</th>\n",
       "      <th>card</th>\n",
       "      <td>1</td>\n",
       "      <td>9600</td>\n",
       "      <td>9600.0</td>\n",
       "    </tr>\n",
       "  </tbody>\n",
       "</table>\n",
       "</div>"
      ],
      "text/plain": [
       "                          count    sum    mean\n",
       "age_group payment_method                      \n",
       "20s       card                2  13000  6500.0\n",
       "30s       cash                1   4800  4800.0\n",
       "          naverpay            1   9700  9700.0\n",
       "40s       card                1   9600  9600.0"
      ]
     },
     "execution_count": 11,
     "metadata": {},
     "output_type": "execute_result"
    }
   ],
   "source": [
    "df.groupby([\"age_group\", \"payment_method\"])[\"total_amount\"].agg([\"count\", \"sum\", \"mean\"])\n"
   ]
  },
  {
   "cell_type": "code",
   "execution_count": 12,
   "id": "bfa97c37",
   "metadata": {},
   "outputs": [
    {
     "data": {
      "text/plain": [
       "visit_grade\n",
       "단골    18100\n",
       "신규     4500\n",
       "일반    14500\n",
       "Name: total_amount, dtype: int64"
      ]
     },
     "execution_count": 12,
     "metadata": {},
     "output_type": "execute_result"
    }
   ],
   "source": [
    "df.groupby(\"visit_grade\")[\"total_amount\"].sum()\n"
   ]
  },
  {
   "cell_type": "code",
   "execution_count": 13,
   "id": "e9c48c54",
   "metadata": {},
   "outputs": [
    {
     "data": {
      "text/plain": [
       "price_category  visit_grade\n",
       "저가              단골             8500.0\n",
       "                신규             4500.0\n",
       "                일반             4800.0\n",
       "중가              단골             9600.0\n",
       "                일반             9700.0\n",
       "Name: total_amount, dtype: float64"
      ]
     },
     "execution_count": 13,
     "metadata": {},
     "output_type": "execute_result"
    }
   ],
   "source": [
    "df.groupby([\"price_category\", \"visit_grade\"])[\"total_amount\"].mean()"
   ]
  },
  {
   "cell_type": "code",
   "execution_count": 14,
   "id": "34be3a67",
   "metadata": {},
   "outputs": [
    {
     "data": {
      "text/html": [
       "<div>\n",
       "<style scoped>\n",
       "    .dataframe tbody tr th:only-of-type {\n",
       "        vertical-align: middle;\n",
       "    }\n",
       "\n",
       "    .dataframe tbody tr th {\n",
       "        vertical-align: top;\n",
       "    }\n",
       "\n",
       "    .dataframe thead th {\n",
       "        text-align: right;\n",
       "    }\n",
       "</style>\n",
       "<table border=\"1\" class=\"dataframe\">\n",
       "  <thead>\n",
       "    <tr style=\"text-align: right;\">\n",
       "      <th></th>\n",
       "      <th></th>\n",
       "      <th>mean</th>\n",
       "      <th>sum</th>\n",
       "      <th>count</th>\n",
       "    </tr>\n",
       "    <tr>\n",
       "      <th>price_category</th>\n",
       "      <th>visit_grade</th>\n",
       "      <th></th>\n",
       "      <th></th>\n",
       "      <th></th>\n",
       "    </tr>\n",
       "  </thead>\n",
       "  <tbody>\n",
       "    <tr>\n",
       "      <th rowspan=\"3\" valign=\"top\">저가</th>\n",
       "      <th>단골</th>\n",
       "      <td>8500.0</td>\n",
       "      <td>8500</td>\n",
       "      <td>1</td>\n",
       "    </tr>\n",
       "    <tr>\n",
       "      <th>신규</th>\n",
       "      <td>4500.0</td>\n",
       "      <td>4500</td>\n",
       "      <td>1</td>\n",
       "    </tr>\n",
       "    <tr>\n",
       "      <th>일반</th>\n",
       "      <td>4800.0</td>\n",
       "      <td>4800</td>\n",
       "      <td>1</td>\n",
       "    </tr>\n",
       "    <tr>\n",
       "      <th rowspan=\"2\" valign=\"top\">중가</th>\n",
       "      <th>단골</th>\n",
       "      <td>9600.0</td>\n",
       "      <td>9600</td>\n",
       "      <td>1</td>\n",
       "    </tr>\n",
       "    <tr>\n",
       "      <th>일반</th>\n",
       "      <td>9700.0</td>\n",
       "      <td>9700</td>\n",
       "      <td>1</td>\n",
       "    </tr>\n",
       "  </tbody>\n",
       "</table>\n",
       "</div>"
      ],
      "text/plain": [
       "                              mean   sum  count\n",
       "price_category visit_grade                     \n",
       "저가             단골           8500.0  8500      1\n",
       "               신규           4500.0  4500      1\n",
       "               일반           4800.0  4800      1\n",
       "중가             단골           9600.0  9600      1\n",
       "               일반           9700.0  9700      1"
      ]
     },
     "execution_count": 14,
     "metadata": {},
     "output_type": "execute_result"
    }
   ],
   "source": [
    "df.groupby([\"price_category\", \"visit_grade\"])[\"total_amount\"].agg([\"mean\", \"sum\", \"count\"])\n"
   ]
  }
 ],
 "metadata": {
  "kernelspec": {
   "display_name": "Python 3",
   "language": "python",
   "name": "python3"
  },
  "language_info": {
   "codemirror_mode": {
    "name": "ipython",
    "version": 3
   },
   "file_extension": ".py",
   "mimetype": "text/x-python",
   "name": "python",
   "nbconvert_exporter": "python",
   "pygments_lexer": "ipython3",
   "version": "3.12.5"
  }
 },
 "nbformat": 4,
 "nbformat_minor": 5
}
