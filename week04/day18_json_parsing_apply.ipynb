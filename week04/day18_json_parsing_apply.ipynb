{
 "cells": [
  {
   "cell_type": "code",
   "execution_count": 2,
   "id": "d0be3e5a",
   "metadata": {},
   "outputs": [
    {
     "name": "stdout",
     "output_type": "stream",
     "text": [
      "e:\\DEbc\\week04\n"
     ]
    }
   ],
   "source": [
    "import os\n",
    "print(os.getcwd())"
   ]
  },
  {
   "cell_type": "code",
   "execution_count": null,
   "id": "c678d233",
   "metadata": {},
   "outputs": [
    {
     "name": "stdout",
     "output_type": "stream",
     "text": [
      "   order_id  price\n",
      "0         1   1200\n",
      "1         2   1300\n"
     ]
    }
   ],
   "source": [
    "##예시\n",
    "\n",
    "import pandas as pd\n",
    "import json\n",
    "from pathlib import Path\n",
    "\n",
    "# 경로 설정\n",
    "data_dir = Path(\"data\")\n",
    "orders_path = data_dir / \"orders_with_json.csv\"\n",
    "\n",
    "# 1. CSV 로딩\n",
    "df = pd.read_csv(orders_path)\n",
    "\n",
    "# 2. info_json 컬럼을 dict로 파싱\n",
    "df[\"info\"] = df[\"info_json\"].apply(json.loads)\n",
    "\n",
    "# 3. 딕셔너리 내부에서 \"price\" 값만 추출\n",
    "df[\"price\"] = df[\"info\"].apply(lambda x: x[\"price\"])\n",
    "\n",
    "# 4. 결과 출력\n",
    "print(df[[\"order_id\", \"price\"]].head())\n"
   ]
  },
  {
   "cell_type": "code",
   "execution_count": 6,
   "id": "eb0662fe",
   "metadata": {},
   "outputs": [
    {
     "name": "stdout",
     "output_type": "stream",
     "text": [
      "   order_id                          info_json  \\\n",
      "0         1  {\"item\": \"laptop\", \"price\": 1200}   \n",
      "1         2  {\"item\": \"tablet\", \"price\": 1300}   \n",
      "\n",
      "                                info    item  price  \n",
      "0  {'item': 'laptop', 'price': 1200}  laptop   1200  \n",
      "1  {'item': 'tablet', 'price': 1300}  tablet   1300  \n"
     ]
    }
   ],
   "source": [
    "##실습코드\n",
    "\n",
    "import pandas as pd\n",
    "import json\n",
    "from pathlib import Path\n",
    "\n",
    "## 경로설정은 위에 되어있으므로 생략\n",
    "\n",
    "df = pd.read_csv(orders_path)\n",
    "\n",
    "df[\"info\"] = df[\"info_json\"].apply(json.loads)\n",
    "\n",
    "# 아이템 따로저장\n",
    "df[\"item\"] = df[\"info\"].apply(lambda x: x[\"item\"])\n",
    "\n",
    "# 가격 따로저장\n",
    "\n",
    "df[\"price\"] = df[\"info\"].apply(lambda x: x[\"price\"])\n",
    "\n",
    "# 가격필터링\n",
    "\n",
    "assert not df.empty, \"파일이 비었어요.\"\n",
    "\n",
    "filtered_df = df.loc[\n",
    "    df[\"price\"] >= 1200\n",
    "]\n",
    "\n",
    "assert len(filtered_df) > 0, \"조건을 만족하는 행이 없습니다\"\n",
    "\n",
    "# 저장경로\n",
    "\n",
    "out_path = data_dir / \"filtered_json_orders.csv\"\n",
    "\n",
    "filtered_df.to_csv(out_path, index=False)\n",
    "\n",
    "print(filtered_df.head())"
   ]
  }
 ],
 "metadata": {
  "kernelspec": {
   "display_name": "Python 3",
   "language": "python",
   "name": "python3"
  },
  "language_info": {
   "codemirror_mode": {
    "name": "ipython",
    "version": 3
   },
   "file_extension": ".py",
   "mimetype": "text/x-python",
   "name": "python",
   "nbconvert_exporter": "python",
   "pygments_lexer": "ipython3",
   "version": "3.12.5"
  }
 },
 "nbformat": 4,
 "nbformat_minor": 5
}
