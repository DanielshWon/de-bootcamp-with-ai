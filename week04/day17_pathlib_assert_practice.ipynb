{
 "cells": [
  {
   "cell_type": "code",
   "execution_count": null,
   "id": "c29b1d54",
   "metadata": {},
   "outputs": [
    {
     "name": "stdout",
     "output_type": "stream",
     "text": [
      "   order_id    item  price  quantity\n",
      "0         1  laptop   1200         2\n",
      "4         5  tablet   1300         2\n"
     ]
    }
   ],
   "source": [
    "## 예시\n",
    "\n",
    "# 흐름: 필요한 모듈 불러오기\n",
    "from pathlib import Path\n",
    "import pandas as pd\n",
    "\n",
    "# 흐름: 데이터 디렉토리 경로 설정\n",
    "# 이유: OS와 무관하게 경로를 안정적으로 다루기 위해\n",
    "data_dir = Path(\"data\")\n",
    "\n",
    "# 흐름: orders.csv 파일 경로 지정\n",
    "orders_path = data_dir / \"orders.csv\"\n",
    "\n",
    "# 흐름: CSV 파일 로딩\n",
    "df = pd.read_csv(orders_path)\n",
    "\n",
    "# 조건: 데이터가 비어 있지 않아야 함\n",
    "# 이유: 빈 CSV는 분석 불가\n",
    "assert not df.empty, \"CSV가 비어 있습니다\"\n",
    "\n",
    "# 흐름: 조건 필터링 (laptop ≥ 1000 또는 tablet ≥ 1200)\n",
    "filtered_df = df.loc[\n",
    "    ((df[\"item\"] == \"laptop\") & (df[\"price\"] >= 1000)) |\n",
    "    ((df[\"item\"] == \"tablet\") & (df[\"price\"] >= 1200))\n",
    "]\n",
    "\n",
    "# 조건: 필터링 결과가 최소 1개 이상 존재해야 함\n",
    "# 이유: 저장할 데이터가 없으면 이후 단계 의미 없음\n",
    "assert len(filtered_df) > 0, \"조건을 만족하는 행이 없습니다\"\n",
    "\n",
    "# 흐름: 결과 파일 저장 경로 지정\n",
    "out_path = data_dir / \"filtered_orders.csv\"\n",
    "\n",
    "# 흐름: 결과 CSV 저장\n",
    "filtered_df.to_csv(out_path, index=False)\n",
    "\n",
    "# 조건: 저장된 파일이 실제로 존재하는지 확인\n",
    "# 이유: 저장 실패에 대비한 검증\n",
    "assert out_path.exists(), \"CSV 저장에 실패했습니다\"\n",
    "\n",
    "# 흐름: 결과 미리보기 출력\n",
    "print(filtered_df.head())\n"
   ]
  },
  {
   "cell_type": "code",
   "execution_count": 5,
   "id": "1c108437",
   "metadata": {},
   "outputs": [
    {
     "name": "stdout",
     "output_type": "stream",
     "text": [
      "   order_id    item  price  quantity\n",
      "0         1  laptop   1200         2\n",
      "4         5  tablet   1300         2\n"
     ]
    }
   ],
   "source": [
    "## 실습\n",
    "\n",
    "data_dir = Path(\"data\")\n",
    "\n",
    "orders_path = data_dir / \"orders.csv\"\n",
    "\n",
    "df = pd.read_csv(orders_path)\n",
    "\n",
    "assert not df.empty, \"파일이 비어 있어요\"\n",
    "\n",
    "filterd_df2 = df.loc[\n",
    "    ((df[\"item\"] == \"laptop\") & (df[\"price\"] >= 1000)) |\n",
    "    ((df[\"item\"] == \"tablet\") & (df[\"price\"] >= 1200))\n",
    "]\n",
    "\n",
    "assert len(filterd_df2) > 0 , \"조건을 만족하는 행이 없어요\"\n",
    "\n",
    "out_path = data_dir / \"filtered_df2.csv\"\n",
    "\n",
    "filterd_df2.to_csv(out_path, index=False)\n",
    "\n",
    "assert out_path.exists(), \"CSV 저장이 실패했어요\"\n",
    "\n",
    "print(filterd_df2.head())"
   ]
  }
 ],
 "metadata": {
  "kernelspec": {
   "display_name": "Python 3",
   "language": "python",
   "name": "python3"
  },
  "language_info": {
   "codemirror_mode": {
    "name": "ipython",
    "version": 3
   },
   "file_extension": ".py",
   "mimetype": "text/x-python",
   "name": "python",
   "nbconvert_exporter": "python",
   "pygments_lexer": "ipython3",
   "version": "3.12.5"
  }
 },
 "nbformat": 4,
 "nbformat_minor": 5
}
