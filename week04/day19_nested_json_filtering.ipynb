{
 "cells": [
  {
   "cell_type": "code",
   "execution_count": 3,
   "id": "5e957c08",
   "metadata": {},
   "outputs": [
    {
     "name": "stdout",
     "output_type": "stream",
     "text": [
      "   order_id  price     status\n",
      "1         2   1300  confirmed\n",
      "3         4   1500    shipped\n",
      "4         5   1250    pending\n"
     ]
    }
   ],
   "source": [
    "# 흐름: JSON 문자열 파싱 → 중첩 딕셔너리에서 값 추출 → 필터링 → 저장\n",
    "# 조건: meta.price가 1200 이상인 경우만 필터링\n",
    "# 이유: 고가 주문만 별도로 분석하기 위한 목적\n",
    "\n",
    "import pandas as pd\n",
    "import json\n",
    "from pathlib import Path\n",
    "\n",
    "# 1. 경로 설정\n",
    "data_dir = Path(\"data\")  \n",
    "orders_path = data_dir / \"orders_with_nested_json.csv\"\n",
    "out_path = data_dir / \"filtered_nested_orders.csv\"\n",
    "\n",
    "# 2. CSV 파일 로딩\n",
    "df = pd.read_csv(orders_path)\n",
    "\n",
    "# 3. info_json 컬럼 → 딕셔너리로 파싱 (예외 방어 포함)\n",
    "def safe_parse(json_str):\n",
    "    try:\n",
    "        return json.loads(json_str)\n",
    "    except:\n",
    "        return {}\n",
    "\n",
    "df[\"info\"] = df[\"info_json\"].apply(safe_parse)\n",
    "\n",
    "# 4. price, status 컬럼 분리\n",
    "df[\"price\"] = df[\"info\"].apply(lambda x: x.get(\"meta\", {}).get(\"price\"))\n",
    "df[\"status\"] = df[\"info\"].apply(lambda x: x.get(\"meta\", {}).get(\"status\"))\n",
    "\n",
    "# 5. 필터링: price가 1200 이상인 행만\n",
    "filtered_df = df.loc[df[\"price\"] >= 1200]\n",
    "\n",
    "# 6. 검증 (assert)\n",
    "assert not df.empty, \"원본 CSV가 비어 있음\"\n",
    "assert len(filtered_df) > 0, \"조건을 만족하는 행이 없음\"\n",
    "\n",
    "# 7. 저장\n",
    "filtered_df.to_csv(out_path, index=False)\n",
    "assert out_path.exists(), \"결과 CSV 저장 실패\"\n",
    "\n",
    "# 8. 출력 확인\n",
    "print(filtered_df[[\"order_id\", \"price\", \"status\"]].head())\n"
   ]
  },
  {
   "cell_type": "code",
   "execution_count": null,
   "id": "a82978b5",
   "metadata": {},
   "outputs": [
    {
     "name": "stdout",
     "output_type": "stream",
     "text": [
      "   order_id  price     status\n",
      "1         2   1300  confirmed\n",
      "3         4   1500    shipped\n",
      "4         5   1250    pending\n"
     ]
    }
   ],
   "source": [
    "##직접 실습\n",
    "\n",
    "import pandas as pd\n",
    "import json\n",
    "from pathlib import Path\n",
    "\n",
    "## 경로 설정이미 되잇으므로 생략\n",
    "#data_dir = Path(\"data\")\n",
    "#orders_path = data_dir / \"orders_with_nested_json.csv\"\n",
    "#out_path = data_dir / \"filtered_nested_orders.csv\"\n",
    "\n",
    "## 파일불러오기\n",
    "df2 = pd.read_csv(orders_path)\n",
    "\n",
    "## 안전하게 불러오는 함수\n",
    "def safe_parse2(json_str):\n",
    "    try:\n",
    "        return json.loads(json_str)\n",
    "    except:\n",
    "        return {}\n",
    "    \n",
    "df2[\"info\"] = df2[\"info_json\"].apply(safe_parse2)\n",
    "\n",
    "## 각 요소 분리저장 (아직 이해 미숙)\n",
    "df2[\"price\"] = df2[\"info\"].apply(lambda x: x.get(\"meta\", {}).get(\"price\"))\n",
    "df2[\"status\"] = df2[\"info\"].apply(lambda x: x.get(\"meta\", {}).get(\"status\"))\n",
    "\n",
    "## 필터링\n",
    "\n",
    "filtered_df2 = df.loc[df[\"price\"] >= 1200]\n",
    "\n",
    "\n",
    "## 검사\n",
    "\n",
    "assert not df2.empty, \"원본 CSV가 비어 있음\"\n",
    "assert len(filtered_df2) > 0, \"조건을 만족하는 행이 없음\"\n",
    "\n",
    "## 저장\n",
    "filtered_df2.to_csv(out_path,index=False)\n",
    "assert out_path.exists(), \"결과 CSV 저장 실패\"\n",
    "## 어썰트 개념 다시숙지 필요\n",
    "\n",
    "# 출력 확인\n",
    "print(filtered_df2[[\"order_id\", \"price\", \"status\"]].head())"
   ]
  }
 ],
 "metadata": {
  "kernelspec": {
   "display_name": "Python 3",
   "language": "python",
   "name": "python3"
  },
  "language_info": {
   "codemirror_mode": {
    "name": "ipython",
    "version": 3
   },
   "file_extension": ".py",
   "mimetype": "text/x-python",
   "name": "python",
   "nbconvert_exporter": "python",
   "pygments_lexer": "ipython3",
   "version": "3.12.5"
  }
 },
 "nbformat": 4,
 "nbformat_minor": 5
}
