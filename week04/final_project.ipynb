{
 "cells": [
  {
   "cell_type": "code",
   "execution_count": null,
   "id": "4293f827",
   "metadata": {},
   "outputs": [],
   "source": [
    "# 📦 Week 4 종합 실습 프로젝트\n",
    "# 🌟 Claude Coffee 주민 데이터 분석\n",
    "\n",
    "\"\"\"\n",
    "📅 시나리오: Claude Coffee 주민 데이터 분석가 시작되었어!\n",
    "\n",
    "\\uuc2dc간: 한 주 (방문 데이터)\n",
    "참적: order_id, customer_name, order_info (JSON 문자열), order_date, total_amount\n",
    "\"\"\"\n",
    "\n",
    "# Step 1. 데이터 로드 & 검증\n",
    "from pathlib import Path\n",
    "import pandas as pd\n",
    "import json\n",
    "\n",
    "# 파일 검증\n",
    "path = Path(\"./data/claude_orders.csv\")\n",
    "assert path.exists(), \"주민 주문 데이터 파일이 없습니다.\"\n",
    "\n",
    "# 데이터를 로드합니다\n",
    "raw_df = pd.read_csv(path)\n",
    "assert not raw_df.empty, \"데이터가 빈 상태입니다.\"\n",
    "\n",
    "# Step 2. JSON 파싱 + 새 컬럼 생성\n",
    "# 이름 및 최적한 의류 새로 만드기\n",
    "# 저렴고 지정적으로 apply + lambda 활용\n",
    "\n",
    "def parse_order_info(row):\n",
    "    order_info = json.loads(row['order_info'])\n",
    "    return pd.Series({\n",
    "        'membership_level': order_info.get('customer', {}).get('membership'),\n",
    "        'primary_drink': order_info.get('items', [{}])[0].get('name'),\n",
    "        'drink_size': order_info.get('items', [{}])[0].get('size'),\n",
    "        'payment_method': order_info.get('payment', {}).get('method'),\n",
    "        'visit_count': order_info.get('customer', {}).get('visit_count')\n",
    "    })\n",
    "\n",
    "parsed_df = raw_df.copy()\n",
    "parsed_cols = parsed_df.apply(parse_order_info, axis=1)\n",
    "parsed_df = pd.concat([parsed_df, parsed_cols], axis=1)\n",
    "\n",
    "# Step 3. 고객 세그먼티언 (Filtering)\n",
    "vip_customers = parsed_df[parsed_df['membership_level'] == 'VIP']\n",
    "high_spenders = parsed_df[parsed_df['total_amount'] >= 10000]\n",
    "frequent_visitors = parsed_df[parsed_df['visit_count'] >= 10]\n",
    "\n",
    "# Step 4. 비즈니스 인사이트 도출\n",
    "vip_avg = vip_customers['total_amount'].mean()\n",
    "\n",
    "popular_drinks = (\n",
    "    parsed_df['primary_drink']\n",
    "    .value_counts()\n",
    "    .head(3)\n",
    ")\n",
    "\n",
    "age_group_pattern = parsed_df.groupby(parsed_df['order_info'].apply(\n",
    "    lambda x: json.loads(x).get('customer', {}).get('age_group')))['total_amount'].mean()\n",
    "\n",
    "# Step 5. 결과 저장 & 검증\n",
    "output_dir = Path(\"./output\")\n",
    "output_dir.mkdir(exist_ok=True)\n",
    "\n",
    "vip_customers.to_csv(output_dir / \"vip_customers.csv\", index=False)\n",
    "high_spenders.to_csv(output_dir / \"high_spenders.csv\", index=False)\n",
    "frequent_visitors.to_csv(output_dir / \"frequent_visitors.csv\", index=False)\n",
    "\n",
    "# assert check\n",
    "assert (output_dir / \"vip_customers.csv\").exists()\n",
    "assert (output_dir / \"high_spenders.csv\").exists()\n",
    "assert (output_dir / \"frequent_visitors.csv\").exists()\n",
    "\n",
    "# Step 6. 결과 보상 출력 (optional)\n",
    "print(\"\\n\\u2705 시스템 가능 인사이트\")\n",
    "print(f\"\\u2728 VIP Average Spend: {vip_avg:.0f} KRW\")\n",
    "print(\"\\n📊 Top 3 Popular Drinks:\")\n",
    "print(popular_drinks)\n",
    "print(\"\\n🔹 Age Group Spend Pattern:\")\n",
    "print(age_group_pattern)\n",
    "\n",
    "# 최종 문제와 함께 모든 Week 4 가능력 복설 확인! 🚀\n"
   ]
  },
  {
   "cell_type": "code",
   "execution_count": null,
   "id": "168a65a2",
   "metadata": {},
   "outputs": [
    {
     "name": "stdout",
     "output_type": "stream",
     "text": [
      "(3, 11)\n",
      "Empty DataFrame\n",
      "Columns: [order_id, customer_name, order_info, order_date, total_amount, info, membership_level, primary_drink, drink_size, payment_method, visit_count]\n",
      "Index: []\n",
      "count     3.000000\n",
      "mean     15.666667\n",
      "std       4.041452\n",
      "min      12.000000\n",
      "25%      13.500000\n",
      "50%      15.000000\n",
      "75%      17.500000\n",
      "max      20.000000\n",
      "Name: visit_count, dtype: float64\n",
      "(3, 11)\n"
     ]
    }
   ],
   "source": [
    "## 직접실습\n",
    "\n",
    "from pathlib import Path\n",
    "import pandas as pd\n",
    "import json\n",
    "\n",
    "## 파일 경로 지정\n",
    "\n",
    "data_dir = Path(\"data\")\n",
    "orders_path = data_dir / \"claude_orders.csv\"\n",
    "\n",
    "assert data_dir.exists(), \"파일이 존재하지 않습니다\"\n",
    "\n",
    "df = pd.read_csv(orders_path)\n",
    "\n",
    "assert not df.empty, \"데이터가 비어 있습니다.\"\n",
    "\n",
    "df[\"info\"] = df[\"order_info\"].apply(json.loads)\n",
    "\n",
    "def extract_order_info(row):\n",
    "    info = row[\"info\"]\n",
    "    return pd.Series({\n",
    "        \"membership_level\" : info.get(\"customer\",{}).get(\"membership\"),\n",
    "        \"primary_drink\" : info.get(\"items\",[{}])[0].get(\"name\"),\n",
    "        \"drink_size\" : info.get(\"items\",[{}])[0].get(\"size\"),\n",
    "        \"payment_method\" : info.get(\"payment\",{}).get(\"method\"),\n",
    "        \"visit_count\" : info.get(\"customer\",{}).get(\"visit_count\"),\n",
    "        })\n",
    "\n",
    "parsed_cols = df.apply(extract_order_info, axis=1)\n",
    "df = pd.concat([df, parsed_cols], axis=1)\n",
    "\n",
    "vip_df = df[df[\"membership_level\"] == \"VIP\"]\n",
    "high_spenders_df = df[df[\"total_amount\"] >= 10000]\n",
    "regulars_df = df[df[\"visit_count\"] >= 10]\n",
    "\n",
    "print(vip_df.shape)           # 몇 명인지\n",
    "print(high_spenders_df.head()) # 금액 큰 사람들\n",
    "print(regulars_df[\"visit_count\"].describe())  # 단골 고객 방문 횟수 평균 등\n",
    "\n",
    "\n",
    "vip_df[\"total_amount\"].mean()\n",
    "df[\"primary_drink\"].value_counts().head(3)\n",
    "\n",
    "df[\"age_group\"] = df[\"info\"].apply(lambda x: x.get(\"customer\", {}).get(\"age_group\"))\n",
    "\n",
    "df.groupby(\"age_group\")[\"total_amount\"].mean()\n"
   ]
  },
  {
   "cell_type": "code",
   "execution_count": null,
   "id": "a48945ee",
   "metadata": {},
   "outputs": [
    {
     "name": "stdout",
     "output_type": "stream",
     "text": [
      "9266.666666666666\n"
     ]
    }
   ],
   "source": [
    "print(vip_df[\"total_amount\"].mean()\n",
    "df[\"primary_drink\"].value_counts().head(3)\n",
    "\n",
    "df[\"age_group\"] = df[\"info\"].apply(lambda x: x.get(\"customer\", {}).get(\"age_group\"))"
   ]
  },
  {
   "cell_type": "code",
   "execution_count": 34,
   "id": "fa47daf3",
   "metadata": {},
   "outputs": [
    {
     "name": "stdout",
     "output_type": "stream",
     "text": [
      "(3, 11)\n"
     ]
    },
    {
     "data": {
      "text/plain": [
       "np.float64(9266.666666666666)"
      ]
     },
     "execution_count": 34,
     "metadata": {},
     "output_type": "execute_result"
    }
   ],
   "source": [
    "print(vip_df.shape)\n",
    "vip_df[\"total_amount\"].mean()\n"
   ]
  }
 ],
 "metadata": {
  "kernelspec": {
   "display_name": "Python 3",
   "language": "python",
   "name": "python3"
  },
  "language_info": {
   "codemirror_mode": {
    "name": "ipython",
    "version": 3
   },
   "file_extension": ".py",
   "mimetype": "text/x-python",
   "name": "python",
   "nbconvert_exporter": "python",
   "pygments_lexer": "ipython3",
   "version": "3.12.5"
  }
 },
 "nbformat": 4,
 "nbformat_minor": 5
}
