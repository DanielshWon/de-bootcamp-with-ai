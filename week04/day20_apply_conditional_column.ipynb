{
 "cells": [
  {
   "cell_type": "code",
   "execution_count": null,
   "id": "2a03d43a",
   "metadata": {},
   "outputs": [],
   "source": [
    "## Day 20 실습 - apply 조건문으로 파생 컬럼 생성\n",
    "\n",
    "\n",
    "\n",
    "### 🎯 실습 목표\n",
    "\n",
    "- `.apply()`와 `lambda` 함수 안에서 조건문(`if-else`)을 사용해 파생 컬럼 생성\n",
    "- 딕셔너리에서 `.get()`을 통해 key를 안전하게 접근하는 방법 익히기\n",
    "- `assert`로 결과값을 검증하는 실무 흐름 체화\n",
    "\n",
    "---\n",
    "\n",
    "### 📂 입력 데이터 설명\n",
    "\n",
    "\n",
    "data = [\n",
    "    {'id': 1, 'json_col': {'status': 'done', 'meta': {'price': 1200}}},\n",
    "    {'id': 2, 'json_col': {'status': 'waiting', 'meta': {'price': 800}}},\n",
    "    {'id': 3, 'json_col': {'meta': {'price': 500}}},  # status 없음\n",
    "]\n",
    "\n",
    "### 🧪 실습 조건\n",
    "\n",
    "lambda 함수 내부에서 if-else 조건문으로 분기\n",
    "\n",
    "status는 .get()으로 접근하여 KeyError 없이 처리\n",
    "\n",
    "최종 결과가 ['완료', '처리중', '처리중'] 인지 assert로 검증\n",
    "\n",
    "모든 코드에 # 흐름 / # 조건 / # 이유 스타일 주석 추가"
   ]
  },
  {
   "cell_type": "code",
   "execution_count": null,
   "id": "87804808",
   "metadata": {},
   "outputs": [],
   "source": [
    "## 실습\n",
    "\n",
    "import pandas as pd\n",
    "\n",
    "data = [\n",
    "    {'id': 1, 'json_col': {'status': 'done', 'meta': {'price': 1200}}},\n",
    "    {'id': 2, 'json_col': {'status': 'waiting', 'meta': {'price': 800}}},\n",
    "    {'id': 3, 'json_col': {'meta': {'price': 500}}},  # status 없음\n",
    "]\n",
    "df = pd.DataFrame(data)\n",
    "\n",
    "\n",
    "df['status_kr'] = df['json_col'].apply(\n",
    "    lambda x: '완료' if x.get('meta', {}).get('status') == 'done' else '처리중'  ## status는 meta 안에 있는 게 아니고, json_col 바로 아래에 있음\n",
    "    ## 정답 : lambda x: '완료' if x.get('status') == 'done' else '처리중'\n",
    ")\n",
    "\n",
    "## assert 로 값이 같도록하는 문법\n",
    "\n",
    "assert df['status_kr'].tolist() == ['완료', '처리중', '처리중']\n",
    "\n",
    "## tolist 는 pandas Series를 list로 바꿔줌\n"
   ]
  }
 ],
 "metadata": {
  "kernelspec": {
   "display_name": "Python 3",
   "language": "python",
   "name": "python3"
  },
  "language_info": {
   "codemirror_mode": {
    "name": "ipython",
    "version": 3
   },
   "file_extension": ".py",
   "mimetype": "text/x-python",
   "name": "python",
   "nbconvert_exporter": "python",
   "pygments_lexer": "ipython3",
   "version": "3.12.5"
  }
 },
 "nbformat": 4,
 "nbformat_minor": 5
}
