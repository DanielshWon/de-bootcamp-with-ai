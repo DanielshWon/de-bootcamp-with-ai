{
 "cells": [
  {
   "cell_type": "code",
   "execution_count": null,
   "id": "7134c033",
   "metadata": {},
   "outputs": [],
   "source": [
    "import pandas as pd\n",
    "\n",
    "df = pd.read_csv(\"orders.csv\")\n",
    "print(df.head())"
   ]
  },
  {
   "cell_type": "code",
   "execution_count": null,
   "id": "217e771f",
   "metadata": {},
   "outputs": [],
   "source": [
    "filtered_df = df.loc[\n",
    "    (df[\"item\"] == \"laptop\") & (df[\"price\"] >= 1000) or ## | 사용, 조건은 괄호로 한번더 묶기기\n",
    "    (df[\"item\"] == \"tablet\") & (df[\"price\"] >= 1200)]\n",
    "\n",
    "## pandas 는 and 나 or 사용 금지 and 는 & , or 는 |"
   ]
  },
  {
   "cell_type": "code",
   "execution_count": null,
   "id": "9f2ae1d8",
   "metadata": {},
   "outputs": [],
   "source": [
    "## 정답 코드\n",
    "\n",
    "filtered_df = df.loc[\n",
    "    ((df[\"item\"] == \"laptop\") & (df[\"price\"] >= 1000)) |\n",
    "    ((df[\"item\"] == \"tablet\") & (df[\"price\"] >= 1200))\n",
    "]\n",
    "# 조건: laptop은 1000 이상, tablet은 1200 이상일 때만 포함\n",
    "# 이유: 상품별 기준가가 다를 경우를 가정한 실무형 조건\n"
   ]
  },
  {
   "cell_type": "code",
   "execution_count": null,
   "id": "8051cb18",
   "metadata": {},
   "outputs": [],
   "source": [
    "filtered_df.to_csv(\"filtered_orders.csv\", index=False)\n",
    "\n",
    "print(filtered_df)\n"
   ]
  }
 ],
 "metadata": {
  "kernelspec": {
   "display_name": "Python 3",
   "language": "python",
   "name": "python3"
  },
  "language_info": {
   "codemirror_mode": {
    "name": "ipython",
    "version": 3
   },
   "file_extension": ".py",
   "mimetype": "text/x-python",
   "name": "python",
   "nbconvert_exporter": "python",
   "pygments_lexer": "ipython3",
   "version": "3.12.5"
  }
 },
 "nbformat": 4,
 "nbformat_minor": 5
}
