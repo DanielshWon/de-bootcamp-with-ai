{
 "cells": [
  {
   "cell_type": "code",
   "execution_count": null,
   "id": "4a2876a5",
   "metadata": {},
   "outputs": [],
   "source": [
    "# 📌 개념 요약: 복합 조건 필터링 + 결과 저장 with 헤더\n",
    "\n",
    "# 복합 조건 예시\n",
    "# 조건1: price >= 1000\n",
    "# 조건2: item == 'laptop' or item == 'tablet'\n",
    "# → 두 조건 모두 만족하는 행만 필터링 (AND + OR 조합)\n",
    "\n",
    "# 결과는 result.csv에 저장\n",
    "# 추가로 헤더도 포함 (\"order_id,item,price\")\n",
    "\n",
    "# ---------------- 실습 코드 ----------------\n",
    "\n",
    "# 조건에 맞는 주문 데이터를 저장할 리스트\n",
    "result_items = []\n",
    "\n",
    "try:\n",
    "    # orders.csv 파일 열기 (읽기 모드)\n",
    "    with open(\"orders.csv\", \"r\") as f:\n",
    "        lines = f.readlines()\n",
    "\n",
    "        # 첫 줄(헤더) 제외 후 데이터 반복\n",
    "        for line in lines[1:]:\n",
    "            # 줄 끝 공백 제거 + 쉼표 기준으로 필드 분리\n",
    "            order_id, item, price = line.strip().split(',')\n",
    "\n",
    "            # 조건: 가격이 1000 이상이고, item이 laptop 또는 tablet\n",
    "            if int(price) >= 1000 and (item == 'laptop' or item == 'tablet'):\n",
    "                # 조건에 맞는 데이터를 리스트에 저장 (줄바꿈 포함)\n",
    "                result_items.append(f\"{order_id},{item},{price}\\n\")\n",
    "                # 확인용 출력\n",
    "                print(f\"주문번호: {order_id}, 상품: {item}, 가격: {price}\")\n",
    "\n",
    "    # 조건 만족 데이터를 result.csv에 저장\n",
    "    with open('result.csv', 'w') as result_file:\n",
    "        # 헤더 추가\n",
    "        result_file.write(\"order_id,item,price\\n\")\n",
    "        # 결과 줄 전체 쓰기\n",
    "        result_file.writelines(result_items)\n",
    "\n",
    "# 예외 처리: 파일이 없거나 데이터가 잘못된 경우\n",
    "except FileNotFoundError:\n",
    "    print(\"파일이 없습니다.\")\n",
    "except ValueError:\n",
    "    print(\"CSV 형식 오류\")\n"
   ]
  },
  {
   "cell_type": "code",
   "execution_count": null,
   "id": "cb7546e9",
   "metadata": {},
   "outputs": [
    {
     "name": "stdout",
     "output_type": "stream",
     "text": [
      "주문번호: 3, 상품: laptop, 가격: 1200\n"
     ]
    }
   ],
   "source": [
    "## 직접 작성해본 결과\n",
    "## 아직 손에안익고 제로부터 작성하는건 안됨.\n",
    "## 전주 실습내용보고 복사하고 이해하며 손에익을때까지 해야할듯듯\n",
    "\n",
    "\n",
    "# 리스트 선언\n",
    "result_items = []\n",
    "\n",
    "try:\n",
    "    # orders 파일 열기\n",
    "    with open (\"orders.csv\" ,\"r\") as f:\n",
    "        lines =f.readlines()\n",
    "        for line in lines[1:]:\n",
    "            # 요소들 각각 나누기\n",
    "            order_id, item, price = line.strip().split(',')\n",
    "            if int(price) >= 1000 and (item == 'laptop' or item == 'tablet'):\n",
    "                # 결과를 리스트에 저장\n",
    "                result_items.append(f\"{order_id},{item},{price}\\n\")\n",
    "                print(f\"주문번호: {order_id}, 상품: {item}, 가격: {price}\")\n",
    "    \n",
    "    # 조건에 맞는 결과를 result.csv에 저장\n",
    "    with open('result.csv', 'w') as result_file:\n",
    "        # 헤더 저장\n",
    "        result_file.write(\"order_id,item,price\\n\")\n",
    "        result_file.writelines(result_items)\n",
    "        \n",
    "except FileNotFoundError:\n",
    "    print(\"파일이 없습니다.\")\n",
    "except ValueError:\n",
    "    print(\"CSV 형식 오류\")        "
   ]
  }
 ],
 "metadata": {
  "kernelspec": {
   "display_name": "Python 3",
   "language": "python",
   "name": "python3"
  },
  "language_info": {
   "codemirror_mode": {
    "name": "ipython",
    "version": 3
   },
   "file_extension": ".py",
   "mimetype": "text/x-python",
   "name": "python",
   "nbconvert_exporter": "python",
   "pygments_lexer": "ipython3",
   "version": "3.12.5"
  }
 },
 "nbformat": 4,
 "nbformat_minor": 5
}
