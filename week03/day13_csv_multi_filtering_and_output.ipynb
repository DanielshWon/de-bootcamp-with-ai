{
 "cells": [
  {
   "cell_type": "code",
   "execution_count": null,
   "id": "96c1abbe",
   "metadata": {},
   "outputs": [
    {
     "name": "stdout",
     "output_type": "stream",
     "text": [
      "주문번호: 2, 상품: tablet, 가격: 700\n",
      "주문번호: 3, 상품: laptop, 가격: 1200\n"
     ]
    }
   ],
   "source": [
    "# 조건문 결과를 담을 리스트트\n",
    "result_items = []\n",
    "\n",
    "# 조건을 담을 코드드\n",
    "try:\n",
    "    with open('orders.csv', 'r') as f:\n",
    "        lines=f.readlines()\n",
    "        for line in lines[1:]:\n",
    "            order_id, item, price = line.strip().split(',')\n",
    "            # order id item price 로 각각 나누기기\n",
    "            if int(price) >= 500 and (item == 'laptop' or item == 'tablet'):\n",
    "                # 결과를 리스트에 저장\n",
    "                result_items.append(f\"{order_id},{item},{price}\\n\")\n",
    "                print(f\"주문번호: {order_id}, 상품: {item}, 가격: {price}\")\n",
    "\n",
    "\n",
    "except FileNotFoundError:\n",
    "    print(\"파일이 없습니다.\")\n",
    "except ValueError:\n",
    "    print(\"CSV 형식 오류\")        "
   ]
  },
  {
   "cell_type": "code",
   "execution_count": null,
   "id": "cb53ad6c",
   "metadata": {},
   "outputs": [
    {
     "name": "stdout",
     "output_type": "stream",
     "text": [
      "주문번호: 2, 상품: tablet, 가격: 700\n",
      "주문번호: 3, 상품: laptop, 가격: 1200\n"
     ]
    }
   ],
   "source": [
    "result_items = []\n",
    "\n",
    "try:\n",
    "    with open('orders.csv', 'r') as f:\n",
    "        lines=f.readlines()\n",
    "        for line in lines[1:]:\n",
    "            order_id, item, price = line.strip().split(',')\n",
    "            if int(price) >= 500 and (item == 'laptop' or item == 'tablet'):\n",
    "                result_items.append(f\"{order_id},{item},{price}\\n\") # \\n 없이 저장하면 다 붙어서 나옴 줄바꿈필수\n",
    "                print(f\"주문번호: {order_id}, 상품: {item}, 가격: {price}\")\n",
    "\n",
    "    # 조건에 맞는 결과를 result.csv에 저장\n",
    "    with open('result.csv', 'w') as result_file:\n",
    "        result_file.writelines(result_items)\n",
    "\n",
    "except FileNotFoundError:\n",
    "    print(\"파일이 없습니다.\")\n",
    "except ValueError:\n",
    "    print(\"CSV 형식 오류\")\n"
   ]
  },
  {
   "cell_type": "code",
   "execution_count": null,
   "id": "393b0959",
   "metadata": {},
   "outputs": [],
   "source": [
    "# 주석 피드백 버전\n",
    "\n",
    "# 조건에 맞는 주문 데이터를 저장할 리스트\n",
    "result_items = []\n",
    "\n",
    "# CSV 파일 열기 및 조건 필터링 실행\n",
    "try:\n",
    "    with open('orders.csv', 'r') as f:\n",
    "        lines = f.readlines()\n",
    "        for line in lines[1:]:\n",
    "            order_id, item, price = line.strip().split(',')\n",
    "            # order_id, item, price로 필드 나누기\n",
    "            if int(price) >= 500 and (item == 'laptop' or item == 'tablet'):\n",
    "                # 조건을 만족하는 데이터를 리스트에 추가\n",
    "                result_items.append(f\"{order_id},{item},{price}\\n\")\n",
    "                print(f\"주문번호: {order_id}, 상품: {item}, 가격: {price}\")\n",
    "\n",
    "except FileNotFoundError:\n",
    "    print(\"파일이 없습니다.\")\n",
    "except ValueError:\n",
    "    print(\"CSV 형식 오류\")\n"
   ]
  }
 ],
 "metadata": {
  "kernelspec": {
   "display_name": "Python 3",
   "language": "python",
   "name": "python3"
  },
  "language_info": {
   "codemirror_mode": {
    "name": "ipython",
    "version": 3
   },
   "file_extension": ".py",
   "mimetype": "text/x-python",
   "name": "python",
   "nbconvert_exporter": "python",
   "pygments_lexer": "ipython3",
   "version": "3.12.5"
  }
 },
 "nbformat": 4,
 "nbformat_minor": 5
}
