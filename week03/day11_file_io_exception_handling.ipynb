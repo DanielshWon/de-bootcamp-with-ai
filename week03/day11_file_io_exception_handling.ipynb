{
 "cells": [
  {
   "cell_type": "code",
   "execution_count": null,
   "id": "8818006d",
   "metadata": {},
   "outputs": [],
   "source": [
    "# ---------------------------------------------------------------\n",
    "# Day 11 - 파일 입출력(File I/O) & 예외 처리(Exception Handling)\n",
    "# Phase 2-B: 데이터 엔지니어링 실무 데이터 처리 입문\n",
    "# ---------------------------------------------------------------\n",
    "\n",
    "# ✅ 오늘의 목표\n",
    "# - 외부 파일(orders.csv)에서 데이터를 읽어오기 (Input)\n",
    "# - 에러(예외)가 발생해도 프로그램을 멈추지 않게 처리하기\n",
    "\n",
    "# ✅ 주요 개념\n",
    "# 1. 파일 입출력 (File I/O)\n",
    "#    - open(파일명, 모드) 로 파일 열기 ('r': 읽기 모드)\n",
    "#    - read()로 파일 내용 읽기\n",
    "#    - with 문 사용 → 파일 자동 닫힘 (메모리 누수 방지)\n",
    "#\n",
    "# 2. 예외 처리 (Exception Handling)\n",
    "#    - try: 오류가 발생할 수 있는 코드\n",
    "#    - except: 오류 발생 시 대처하는 코드\n",
    "#    - FileNotFoundError: 파일이 없을 때 발생\n",
    "#    - ValueError: 데이터 형식 문제 발생 시\n",
    "\n",
    "# ✅ 실습 코드\n",
    "try:\n",
    "    # 파일 열기 (읽기 모드)\n",
    "    with open('orders.csv', 'r') as f:\n",
    "        # 파일 내용 읽기\n",
    "        data = f.read()\n",
    "        # 파일 내용 출력\n",
    "        print(data)\n",
    "\n",
    "# 파일이 존재하지 않을 경우 예외 처리\n",
    "except FileNotFoundError:\n",
    "    print(\"파일이 없습니다.\")\n",
    "\n",
    "# 데이터 형식 오류가 발생할 경우 예외 처리\n",
    "except ValueError:\n",
    "    print(\"CSV 형식 오류\")\n",
    "\n",
    "# ✅ 오늘의 사고 흐름 정리\n",
    "# - 실무에서는 파일이 없거나 데이터가 이상해도 프로그램이 멈추면 안됨.\n",
    "# - 오류 발생 가능성이 있는 코드는 try 블록에 작성.\n",
    "# - except 블록에서 에러 상황을 처리하고, 프로그램이 계속 진행될 수 있게 설계.\n",
    "# ---------------------------------------------------------------\n"
   ]
  },
  {
   "cell_type": "code",
   "execution_count": 1,
   "id": "7990502c",
   "metadata": {},
   "outputs": [
    {
     "name": "stdout",
     "output_type": "stream",
     "text": [
      "order_id,item,price\n",
      "1,phone,300\n",
      "2,tablet,700\n",
      "3,laptop,1200\n",
      "4,keyboard,150\n",
      "\n"
     ]
    }
   ],
   "source": [
    "# orders.csv 파일에서 주문 데이터를 읽어와서 출력하는 코드를 작성해보자.\n",
    "# 그리고 파일이 없으면 \"파일이 없습니다.\" 출력,\n",
    "# CSV 형식 오류면 \"CSV 형식 오류\" 출력하는 예외 처리를 추가해.\n",
    "\n",
    "try:\n",
    "    with open('orders.csv', 'r') as f :\n",
    "        data = f.read()\n",
    "        print(data)\n",
    "except FileNotFoundError:\n",
    "    print(\"파일이 없습니다.\")\n",
    "except ValueError:\n",
    "    print(\"CSV 형식 오류\")"
   ]
  }
 ],
 "metadata": {
  "kernelspec": {
   "display_name": "Python 3",
   "language": "python",
   "name": "python3"
  },
  "language_info": {
   "codemirror_mode": {
    "name": "ipython",
    "version": 3
   },
   "file_extension": ".py",
   "mimetype": "text/x-python",
   "name": "python",
   "nbconvert_exporter": "python",
   "pygments_lexer": "ipython3",
   "version": "3.12.5"
  }
 },
 "nbformat": 4,
 "nbformat_minor": 5
}
