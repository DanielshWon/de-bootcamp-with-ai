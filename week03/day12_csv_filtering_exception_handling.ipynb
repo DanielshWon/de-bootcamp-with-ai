{
 "cells": [
  {
   "cell_type": "code",
   "execution_count": null,
   "id": "a2be1a25",
   "metadata": {},
   "outputs": [],
   "source": [
    "# ---------------------------------------------------------------\n",
    "# Day 12 - CSV 조건 필터링 & 예외 처리 실습\n",
    "# Phase 2-B: 실무 데이터 조건 처리 사고 심화\n",
    "# ---------------------------------------------------------------\n",
    "\n",
    "# ✅ 오늘의 목표\n",
    "# - CSV 데이터 중 가격(price) >= 1000인 주문만 출력\n",
    "# - 파일 및 데이터 형식 오류 발생 시 예외 처리\n",
    "\n",
    "# ✅ 주요 개념\n",
    "# 1. 파일 입출력 (File I/O)\n",
    "#    - with open(파일명, 'r') as 변수 → 파일 열고 자동 닫기\n",
    "#    - readlines()로 줄별 데이터 읽기\n",
    "#\n",
    "# 2. 조건 필터링\n",
    "#    - 헤더 제외 (lines[1:])\n",
    "#    - split(',') → 필드 나누기\n",
    "#    - price 값을 float으로 변환 후 조건 비교\n",
    "#\n",
    "# 3. 예외 처리 (Exception Handling)\n",
    "#    - FileNotFoundError: 파일 없음 에러 처리\n",
    "#    - ValueError: 데이터 형식 오류 처리\n",
    "\n",
    "# ✅ 실습 코드\n",
    "\n",
    "try:\n",
    "    with open('orders.csv', 'r') as f:\n",
    "        lines = f.readlines()\n",
    "        for line in lines[1:]:\n",
    "            order_id, item, price = line.strip().split(',')\n",
    "            if float(price) >= 1000:\n",
    "                print(f\"주문번호: {order_id}, 상품: {item}, 가격: {price}\")\n",
    "\n",
    "except FileNotFoundError:\n",
    "    print(\"파일이 없습니다.\")\n",
    "except ValueError:\n",
    "    print(\"CSV 형식 오류\")\n",
    "\n",
    "# ✅ 오늘 코드 흐름\n",
    "# 1. 파일을 열어 줄별 데이터 읽기\n",
    "# 2. 헤더 제외하고 각 줄 반복 처리\n",
    "# 3. 쉼표로 필드를 나눠 order_id, item, price 변수에 할당\n",
    "# 4. price를 float으로 변환하고 조건(price >= 1000) 비교\n",
    "# 5. 조건 충족 시 주문 정보 출력\n",
    "# 6. 파일 없음, 데이터 형식 오류 발생 시 예외 처리\n",
    "# ---------------------------------------------------------------\n"
   ]
  },
  {
   "cell_type": "code",
   "execution_count": null,
   "id": "370e1607",
   "metadata": {},
   "outputs": [],
   "source": [
    "try:\n",
    "    with open('orders.csv', 'r') as f :\n",
    "        lines = f.readlines()\n",
    "        for line in lines[1:]:\n",
    "            order_id, item, price = line.strip().split(',')\n",
    "            if float(price) >= 500:\n",
    "                print(f\"주문번호: {order_id}, 상품: {item}, 가격: {price}\")\n",
    "\n",
    "\n",
    "except FileNotFoundError:\n",
    "    print(\"파일이 없습니다.\")\n",
    "except ValueError:\n",
    "    print(\"CSV 형식 오류\")"
   ]
  },
  {
   "cell_type": "code",
   "execution_count": 2,
   "id": "c74a2bdd",
   "metadata": {},
   "outputs": [
    {
     "name": "stdout",
     "output_type": "stream",
     "text": [
      "주문번호: 3, 상품: laptop, 가격: 1200\n"
     ]
    }
   ],
   "source": [
    "try:\n",
    "    with open('orders.csv', 'r') as f:\n",
    "        lines = f.readlines()\n",
    "        for line in lines[1:]:\n",
    "            order_id, item, price = line.strip().split(',')\n",
    "            if float(price) >= 1000:\n",
    "                print(f\"주문번호: {order_id}, 상품: {item}, 가격: {price}\")\n",
    "                \n",
    "except FileNotFoundError:\n",
    "    print(\"파일이 없습니다.\")\n",
    "except ValueError:\n",
    "    print(\"CSV 형식 오류\")"
   ]
  }
 ],
 "metadata": {
  "kernelspec": {
   "display_name": "Python 3",
   "language": "python",
   "name": "python3"
  },
  "language_info": {
   "codemirror_mode": {
    "name": "ipython",
    "version": 3
   },
   "file_extension": ".py",
   "mimetype": "text/x-python",
   "name": "python",
   "nbconvert_exporter": "python",
   "pygments_lexer": "ipython3",
   "version": "3.12.5"
  }
 },
 "nbformat": 4,
 "nbformat_minor": 5
}
