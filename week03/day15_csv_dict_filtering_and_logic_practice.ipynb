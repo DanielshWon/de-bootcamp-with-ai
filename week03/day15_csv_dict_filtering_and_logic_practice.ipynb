{
 "cells": [
  {
   "cell_type": "code",
   "execution_count": null,
   "id": "51338a78",
   "metadata": {},
   "outputs": [],
   "source": [
    "# 📌 Day 15 실습 - 복합 조건 필터링 + 딕셔너리 저장 + pandas CSV 출력\n",
    "\n",
    "# pandas는 표 형태의 데이터(행-열 구조)를 다루는 라이브러리\n",
    "# DataFrame: 엑셀처럼 생긴 2차원 데이터 테이블을 메모리에서 다루는 구조\n",
    "\n",
    "import pandas as pd\n",
    "\n",
    "# 조건에 맞는 주문 데이터를 저장할 리스트 (딕셔너리 구조로 저장)\n",
    "result_items = []\n",
    "\n",
    "try:\n",
    "    # orders.csv 파일 열기\n",
    "    with open(\"orders.csv\", \"r\") as f:\n",
    "        lines = f.readlines()\n",
    "\n",
    "        # 첫 줄(헤더) 제외하고 반복\n",
    "        for line in lines[1:]:\n",
    "            order_id, item, price = line.strip().split(',')\n",
    "            price = int(price)\n",
    "\n",
    "            # 조건: laptop은 1000 이상, tablet은 1200 이상\n",
    "            if (item == 'laptop' and price >= 1000) or (item == 'tablet' and price >= 1200):\n",
    "                # 딕셔너리 형태로 저장\n",
    "                result_items.append({\n",
    "                    \"order_id\": order_id,\n",
    "                    \"item\": item,\n",
    "                    \"price\": price\n",
    "                })\n",
    "\n",
    "                # 필터링된 결과 출력\n",
    "                print(f\"주문번호: {order_id}, 상품: {item}, 가격: {price}\")\n",
    "\n",
    "    # 결과 리스트를 pandas DataFrame으로 변환\n",
    "    df = pd.DataFrame(result_items)\n",
    "\n",
    "    # CSV로 저장 (index=False → 인덱스 열 없이 저장)\n",
    "    df.to_csv(\"result_day15.csv\", index=False)\n",
    "\n",
    "except FileNotFoundError:\n",
    "    print(\"파일이 없습니다.\")\n",
    "except ValueError:\n",
    "    print(\"CSV 형식 오류\")\n",
    "\n",
    "# 💡 DataFrame 구조 예시:\n",
    "#   order_id     item     price\n",
    "#       1      laptop     1200\n",
    "#       2      tablet     1300\n"
   ]
  },
  {
   "cell_type": "code",
   "execution_count": null,
   "id": "050df71c",
   "metadata": {},
   "outputs": [
    {
     "name": "stdout",
     "output_type": "stream",
     "text": [
      "주문번호: 3, 상품: laptop, 가격: 1200\n"
     ]
    }
   ],
   "source": [
    "## 직접실습파일\n",
    "## 판다스 이해 최우선\n",
    "\n",
    "\n",
    "\n",
    "result_items = []\n",
    "import pandas as pd\n",
    "\n",
    "try:\n",
    "    # orders 파일 열기\n",
    "    with open (\"orders.csv\" ,\"r\") as f:\n",
    "        lines =f.readlines()\n",
    "        for line in lines[1:]:\n",
    "            # 요소들 각각 나누기\n",
    "            order_id, item, price = line.strip().split(',')\n",
    "            price = int(price)\n",
    "            if (item == 'laptop' and price >= 1000) or (item == 'tablet' and price >= 1200):\n",
    "                # 결과를 리스트에 저장\n",
    "                result_items.append({\"order_id\": order_id, \"item\": item, \"price\": price})\n",
    "                print(f\"주문번호: {order_id}, 상품: {item}, 가격: {price}\")\n",
    "    \n",
    "    # 조건에 맞는 결과를 result.csv에 저장\n",
    "    \n",
    "    df = pd.DataFrame(result_items)\n",
    "    df.to_csv(\"result_day15.csv\", index=False)\n",
    "        \n",
    "except FileNotFoundError:\n",
    "    print(\"파일이 없습니다.\")\n",
    "except ValueError:\n",
    "    print(\"CSV 형식 오류\")     "
   ]
  }
 ],
 "metadata": {
  "kernelspec": {
   "display_name": "Python 3",
   "language": "python",
   "name": "python3"
  },
  "language_info": {
   "codemirror_mode": {
    "name": "ipython",
    "version": 3
   },
   "file_extension": ".py",
   "mimetype": "text/x-python",
   "name": "python",
   "nbconvert_exporter": "python",
   "pygments_lexer": "ipython3",
   "version": "3.12.5"
  }
 },
 "nbformat": 4,
 "nbformat_minor": 5
}
