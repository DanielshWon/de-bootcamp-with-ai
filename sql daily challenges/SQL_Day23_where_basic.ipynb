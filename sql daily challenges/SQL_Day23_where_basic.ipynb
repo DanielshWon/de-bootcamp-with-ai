{
 "cells": [
  {
   "cell_type": "markdown",
   "id": "1bf3d480",
   "metadata": {},
   "source": [
    "-- WHERE = \"이 조건에 맞는 데이터만 보여줘!\"\n",
    "-- 마치 Excel에서 필터 거는 것처럼 작동해\n",
    "\n",
    "-- 기본 SELECT\n",
    "SELECT * FROM menu;\n",
    "\n",
    "-- 조건 추가: 가격이 5000원 이상인 메뉴만 보고 싶을 때\n",
    "SELECT * FROM menu\n",
    "WHERE price >= 5000;\n"
   ]
  },
  {
   "cell_type": "markdown",
   "id": "b603f2b3",
   "metadata": {},
   "source": [
    "-- 예제 1: 5000원 이상 메뉴\n",
    "SELECT name, price FROM menu\n",
    "WHERE price >= 5000;\n",
    "\n",
    "-- 예제 2: 메뉴 이름이 \"아메리카노\"인 항목\n",
    "SELECT * FROM menu\n",
    "WHERE name = '아메리카노';\n"
   ]
  },
  {
   "cell_type": "code",
   "execution_count": null,
   "id": "27f0deee",
   "metadata": {},
   "outputs": [],
   "source": [
    "%sql SELECT name, price FROM meun WHERE price <= 7000;\n",
    "\n",
    "%sql SELECT * FROM meun WHERE = '카페라뗴';\n"
   ]
  }
 ],
 "metadata": {
  "language_info": {
   "name": "python"
  }
 },
 "nbformat": 4,
 "nbformat_minor": 5
}
