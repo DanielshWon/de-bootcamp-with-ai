{
 "cells": [
  {
   "cell_type": "markdown",
   "id": "408171ec",
   "metadata": {},
   "source": [
    "-- ORDER BY 컬럼명 ASC 또는 DESC\n",
    "-- ASC: 오름차순 (작은 값 → 큰 값)\n",
    "-- DESC: 내림차순 (큰 값 → 작은 값)\n"
   ]
  },
  {
   "cell_type": "markdown",
   "id": "b7cd0b14",
   "metadata": {},
   "source": [
    "예제 1: 가격이 싼 순서대로 정렬하기\n",
    "\n",
    "SELECT name, price FROM menu\n",
    "ORDER BY price ASC;\n",
    "\n",
    "예제 2: 가격이 비싼 순서대로 정렬하기\n",
    "\n",
    "SELECT name, price FROM menu\n",
    "ORDER BY price DESC;\n"
   ]
  },
  {
   "cell_type": "code",
   "execution_count": null,
   "id": "c8599d79",
   "metadata": {},
   "outputs": [],
   "source": [
    "문제:\n",
    "가격 기준으로 정렬하되, 가장 비싼 메뉴부터 출력해보세요.\n",
    "메뉴 이름과 가격만 출력하세요.\n",
    "\n",
    "%sql SELECT name,price FROM menu ORDER BY price ASC;"
   ]
  }
 ],
 "metadata": {
  "language_info": {
   "name": "python"
  }
 },
 "nbformat": 4,
 "nbformat_minor": 5
}
