{
 "cells": [
  {
   "cell_type": "code",
   "execution_count": null,
   "id": "7d3c1462",
   "metadata": {},
   "outputs": [],
   "source": [
    "# Day 22 - SQL SELECT 맛보기\n",
    "\n",
    "\"\"\"\n",
    "📘 SELECT 기본 문법 맛보기\n",
    "\"\"\"\n",
    "\n",
    "# 예제 1: 전체 보기\n",
    "# SELECT * FROM menu;\n",
    "\n",
    "# 예제 2: 컬럼 선택 + 별명\n",
    "# SELECT name AS 메뉴이름, price AS 가격 FROM menu;\n",
    "\n",
    "# 연습\n",
    "# 1. 메뉴 이름만 조회\n",
    "# 2. 가격에 10% 부가세 포함 금액도 함께 조회\n",
    "\n",
    "%sql SELECT name FROM meun;\n",
    "\n",
    "%sql SELECT name, price * 1.1 AS 부가세 FROM meun;"
   ]
  }
 ],
 "metadata": {
  "language_info": {
   "name": "python"
  }
 },
 "nbformat": 4,
 "nbformat_minor": 5
}
