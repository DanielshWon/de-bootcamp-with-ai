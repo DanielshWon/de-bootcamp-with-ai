{
 "cells": [
  {
   "cell_type": "code",
   "execution_count": null,
   "id": "f47504e9",
   "metadata": {},
   "outputs": [
    {
     "name": "stdout",
     "output_type": "stream",
     "text": [
      "20\n",
      "30\n",
      "50\n",
      "60\n"
     ]
    }
   ],
   "source": [
    "# for문 실습\n",
    "\n",
    "\n",
    "# 다음 리스트에서 30을 제외한 나머지 숫자에 10을 더하여 출력하시오.\n",
    "numbers = [10, 20, 30, 40, 50] \n",
    "\n",
    "for number in numbers:\n",
    "    if number == 30:\n",
    "        continue\n",
    "    print(number+10)\n",
    "    \n",
    "# countiue : 특정조건 제외후 반복문 계속 진행\n",
    "# break : 특정조건에서 반복문 종료"
   ]
  },
  {
   "cell_type": "code",
   "execution_count": null,
   "id": "a694abfa",
   "metadata": {},
   "outputs": [
    {
     "name": "stdout",
     "output_type": "stream",
     "text": [
      "현재 숫자: 1, 누적합: 1\n",
      "현재 숫자: 2, 누적합: 3\n",
      "현재 숫자: 3, 누적합: 6\n",
      "현재 숫자: 4, 누적합: 10\n",
      "현재 숫자: 5, 누적합: 15\n",
      "현재 숫자: 6, 누적합: 21\n",
      "중단합니다.\n"
     ]
    }
   ],
   "source": [
    "# while문 실습\n",
    "\n",
    "i = 1\n",
    "sum = 0\n",
    "\n",
    "while i < 10:\n",
    "    if sum >= 20:\n",
    "        break\n",
    "    sum += i\n",
    "    print(f\"현재 숫자: {i}, 누적합: {sum}\")\n",
    "    i += 1\n",
    "print(\"중단합니다.\")"
   ]
  }
 ],
 "metadata": {
  "kernelspec": {
   "display_name": "Python 3",
   "language": "python",
   "name": "python3"
  },
  "language_info": {
   "codemirror_mode": {
    "name": "ipython",
    "version": 3
   },
   "file_extension": ".py",
   "mimetype": "text/x-python",
   "name": "python",
   "nbconvert_exporter": "python",
   "pygments_lexer": "ipython3",
   "version": "3.12.5"
  }
 },
 "nbformat": 4,
 "nbformat_minor": 5
}
