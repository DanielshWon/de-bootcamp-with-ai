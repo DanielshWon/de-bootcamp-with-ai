{
 "cells": [
  {
   "cell_type": "code",
   "execution_count": 1,
   "id": "9eedf62b",
   "metadata": {},
   "outputs": [
    {
     "name": "stdout",
     "output_type": "stream",
     "text": [
      "<class 'int'>\n",
      "<class 'float'>\n",
      "<class 'str'>\n",
      "<class 'bool'>\n"
     ]
    }
   ],
   "source": [
    "# 숫자 변수\n",
    "age = 27\n",
    "height = 175.5\n",
    "\n",
    "# 문자열 변수\n",
    "name = \"Seunghwan\"\n",
    "\n",
    "# 불린 변수\n",
    "is_student = True\n",
    "\n",
    "# 변수들의 자료형 확인\n",
    "print(type(age))        # <class 'int'>\n",
    "print(type(height))     # <class 'float'>\n",
    "print(type(name))       # <class 'str'>\n",
    "print(type(is_student)) # <class 'bool'>\n"
   ]
  }
 ],
 "metadata": {
  "kernelspec": {
   "display_name": "Python 3",
   "language": "python",
   "name": "python3"
  },
  "language_info": {
   "codemirror_mode": {
    "name": "ipython",
    "version": 3
   },
   "file_extension": ".py",
   "mimetype": "text/x-python",
   "name": "python",
   "nbconvert_exporter": "python",
   "pygments_lexer": "ipython3",
   "version": "3.12.5"
  }
 },
 "nbformat": 4,
 "nbformat_minor": 5
}
