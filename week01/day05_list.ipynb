{
 "cells": [
  {
   "cell_type": "code",
   "execution_count": 2,
   "id": "74a0a0f2",
   "metadata": {},
   "outputs": [
    {
     "name": "stdout",
     "output_type": "stream",
     "text": [
      "8\n",
      "22\n",
      "14\n",
      "2\n"
     ]
    }
   ],
   "source": [
    "nunumbers = [3, 8, 15, 22, 7, 14, 5, 2]\n",
    "\n",
    "for i in nunumbers:\n",
    "    if i % 2 == 0:\n",
    "        print(i)"
   ]
  },
  {
   "cell_type": "code",
   "execution_count": null,
   "id": "24012eb0",
   "metadata": {},
   "outputs": [
    {
     "name": "stdout",
     "output_type": "stream",
     "text": [
      "[10, 8, 6, 4, 2]\n"
     ]
    }
   ],
   "source": [
    "numbers = [7, 2, 9, 4, 5, 6, 8, 1, 10, 3]\n",
    "\n",
    "# 짝수만 필터링 (리스트 컴프리헨션 사용)\n",
    "even_numbers = [num for num in numbers if num % 2 == 0]\n",
    "\n",
    "# 내림차순 정렬\n",
    "even_numbers.sort(reverse=True)\n",
    "\n",
    "# 출력\n",
    "print(even_numbers)\n"
   ]
  },
  {
   "cell_type": "code",
   "execution_count": null,
   "id": "805d39bb",
   "metadata": {},
   "outputs": [
    {
     "name": "stdout",
     "output_type": "stream",
     "text": [
      "[7, 9, 11, 13]\n"
     ]
    }
   ],
   "source": [
    "numbers = [4, 7, 1, 8, 3, 9, 2, 11, 6, 13]\n",
    "\n",
    "# 5보다 크고 홀수인 숫자만 필터링\n",
    "odd_numbers_over_5 = [num for num in numbers if num % 2 != 0 and num > 5]\n",
    "\n",
    "# 오름차순 정렬\n",
    "odd_numbers_over_5.sort()\n",
    "\n",
    "# 결과 출력\n",
    "print(odd_numbers_over_5)\n"
   ]
  },
  {
   "cell_type": "code",
   "execution_count": null,
   "id": "61f55855",
   "metadata": {},
   "outputs": [],
   "source": [
    "# 원본 리스트\n",
    "numbers = [4, 7, 1, 8, 3, 9, 2, 11, 6, 13]\n",
    "\n",
    "# 리스트 컴프리헨션 + sorted()를 이용해\n",
    "# 5보다 큰 홀수만 골라서 오름차순으로 정렬된 새 리스트 생성\n",
    "odd_numbers_over_5 = sorted([num for num in numbers if num % 2 != 0 and num > 5])\n",
    "\n",
    "# 결과 출력\n",
    "print(odd_numbers_over_5)\n",
    "\n",
    "# 한줄 덜 작성할수있어 가독성 좋음"
   ]
  },
  {
   "cell_type": "code",
   "execution_count": null,
   "id": "c77a2525",
   "metadata": {},
   "outputs": [
    {
     "name": "stdout",
     "output_type": "stream",
     "text": [
      "[22000, 18000, 15000, 12000]\n"
     ]
    }
   ],
   "source": [
    "orders = [12000, 8000, 15000, 3000, 22000, 5000, 18000]\n",
    "\n",
    "# 10000원 이상인 주문만 필터링\n",
    "\n",
    "over_10000 = sorted([order for order in orders if order >= 10000])\n",
    "\n",
    "over_10000.sort(reverse=True)\n",
    "# sorted() 내림차순 안되는줄알앗음\n",
    "print(over_10000)"
   ]
  },
  {
   "cell_type": "code",
   "execution_count": null,
   "id": "95e4958c",
   "metadata": {},
   "outputs": [],
   "source": [
    "orders = [12000, 8000, 15000, 3000, 22000, 5000, 18000]\n",
    "\n",
    "# 10000원 이상 주문만 골라서 바로 내림차순 정렬\n",
    "over_10000 = sorted([order for order in orders if order >= 10000], reverse=True)\n",
    "\n",
    "print(over_10000)\n"
   ]
  },
  {
   "cell_type": "code",
   "execution_count": 28,
   "id": "e0d0a751",
   "metadata": {},
   "outputs": [],
   "source": [
    "purchases = [(\"A\", 12000), (\"B\", 8000), (\"C\", 15000), (\"D\", 3000), (\"E\", 22000), (\"F\", 5000), (\"G\", 18000)]\n",
    "\n",
    "over_10000_orders = sorted([order for order in purchases if order[1] >= 10000], key=lambda x: x[1], reverse=True)"
   ]
  },
  {
   "cell_type": "code",
   "execution_count": 29,
   "id": "aa13e055",
   "metadata": {},
   "outputs": [
    {
     "name": "stdout",
     "output_type": "stream",
     "text": [
      "[('E', 22000), ('G', 18000), ('C', 15000), ('A', 12000)]\n"
     ]
    }
   ],
   "source": [
    "print(over_10000_orders)"
   ]
  },
  {
   "cell_type": "code",
   "execution_count": null,
   "id": "3fd2860e",
   "metadata": {},
   "outputs": [],
   "source": [
    "# purchases 리스트는 (고객명, 구매금액) 형태의 튜플로 이루어져 있다\n",
    "purchases = [(\"A\", 12000), (\"B\", 8000), (\"C\", 15000), (\"D\", 3000), (\"E\", 22000), (\"F\", 5000), (\"G\", 18000)]\n",
    "\n",
    "# 리스트 컴프리헨션을 사용해, 금액이 10000원 이상인 주문만 골라낸다\n",
    "# 여기서 for order in purchases 라고 하면\n",
    "# order 변수에는 purchases 리스트 안에 있는 각각의 \"튜플\"이 하나씩 들어온다\n",
    "# (예: order = (\"A\", 12000))\n",
    "\n",
    "# 따라서 order[1]이라고 쓰면, 튜플의 두 번째 값(금액)에 접근할 수 있다\n",
    "\n",
    "# 필터링 + 정렬을 한 번에 처리하는 코드\n",
    "over_10000_orders = sorted(\n",
    "    [order for order in purchases if order[1] >= 10000],  # 금액이 10000 이상인 것만 필터링\n",
    "    key=lambda x: x[1],                                   # key=lambda x: x[1] : 금액을 기준으로 정렬\n",
    "    reverse=True                                          # reverse=True : 높은 금액부터 내림차순 정렬\n",
    ")\n",
    "\n",
    "# 최종 결과 출력\n",
    "print(over_10000_orders)\n",
    "\n",
    "# 결과:\n",
    "# [('E', 22000), ('G', 18000), ('C', 15000), ('A', 12000)]\n",
    "\n",
    "# 추가 정리:\n",
    "# - key=lambda x: x[1]은 튜플의 두 번째 값(금액)을 기준으로 정렬하겠다는 의미\n",
    "# - 만약 key=lambda x: x[0]으로 하면, 첫 번째 값(고객명, 이름)을 기준으로 정렬한다\n",
    "# - 리스트 컴프리헨션은 리스트 안의 각 요소(order)를 직접 다루므로 purchases[order]처럼 다시 리스트를 참조할 필요는 없다\n"
   ]
  },
  {
   "cell_type": "code",
   "execution_count": 30,
   "id": "8c91b4be",
   "metadata": {},
   "outputs": [
    {
     "name": "stdout",
     "output_type": "stream",
     "text": [
      "[('Eva', 95), ('Alice', 92), ('Cathy', 89), ('Daniel', 85)]\n"
     ]
    }
   ],
   "source": [
    "students = [(\"Daniel\", 85), (\"Alice\", 92), (\"Brian\", 76), (\"Cathy\", 89), (\"Eva\", 95)]\n",
    "\n",
    "\n",
    "over_80 = sorted([student for student in students if student[1] >= 80], key = lambda x: x[1], reverse=True)\n",
    "\n",
    "print(over_80)"
   ]
  }
 ],
 "metadata": {
  "kernelspec": {
   "display_name": "Python 3",
   "language": "python",
   "name": "python3"
  },
  "language_info": {
   "codemirror_mode": {
    "name": "ipython",
    "version": 3
   },
   "file_extension": ".py",
   "mimetype": "text/x-python",
   "name": "python",
   "nbconvert_exporter": "python",
   "pygments_lexer": "ipython3",
   "version": "3.12.5"
  }
 },
 "nbformat": 4,
 "nbformat_minor": 5
}
