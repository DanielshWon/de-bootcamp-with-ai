{
 "cells": [
  {
   "cell_type": "code",
   "execution_count": null,
   "id": "30a5be33",
   "metadata": {},
   "outputs": [
    {
     "name": "stdout",
     "output_type": "stream",
     "text": [
      "성인 입니다.\n"
     ]
    }
   ],
   "source": [
    "age = 21\n",
    "\n",
    "# 미성년자 인지 확인\n",
    "if age < 18:\n",
    "    print(\"미성년자 입니다.\")\n",
    "# 그외 성인 인지 확인\n",
    "elif age < 65 :\n",
    "    print(\"성인 입니다.\")\n",
    "# 노인 인지 확인\n",
    "else:\n",
    "    print(\"노인 입니다.\")\n",
    "\n",
    "# 21은 18보다 크고 65보다 작으므로 \"성인 입니다.\"가 출력된다."
   ]
  },
  {
   "cell_type": "code",
   "execution_count": null,
   "id": "d1f1f578",
   "metadata": {},
   "outputs": [
    {
     "name": "stdout",
     "output_type": "stream",
     "text": [
      "B학점입니다.\n"
     ]
    }
   ],
   "source": [
    "score = 80\n",
    "\n",
    "# 점수에 따라 등급을 매긴다.\n",
    "if score >= 90 and score <= 100:\n",
    "    print(\"A학점입니다.\")\n",
    "elif score >= 80:\n",
    "    print(\"B학점입니다.\")\n",
    "elif score >= 70:\n",
    "    print(\"C학점입니다.\")\n",
    "elif score >= 60:\n",
    "    print(\"D학점입니다.\")\n",
    "elif score >= 0:\n",
    "    print(\"F학점입니다.재수강 대상입니다.\")\n",
    "else:\n",
    "    print(\"잘못된 점수입니다.\")\n",
    "    \n",
    "# 점수가 80이므로 \"B학점입니다.\"가 출력된다."
   ]
  },
  {
   "cell_type": "code",
   "execution_count": 3,
   "id": "953b4cc6",
   "metadata": {},
   "outputs": [
    {
     "name": "stdout",
     "output_type": "stream",
     "text": [
      "답변이 yes입니다.\n"
     ]
    }
   ],
   "source": [
    "answer = \"yes\"\n",
    "\n",
    "# 대답이 yes인지 no인지 확인한다.\n",
    "if answer == \"yes\":\n",
    "    print(\"답변이 yes입니다.\")\n",
    "elif answer == \"no\":\n",
    "    print(\"답변이 no입니다.\")\n",
    "else: \n",
    "    print(\"답변이 yes도 no도 아닙니다.\")"
   ]
  }
 ],
 "metadata": {
  "kernelspec": {
   "display_name": "Python 3",
   "language": "python",
   "name": "python3"
  },
  "language_info": {
   "codemirror_mode": {
    "name": "ipython",
    "version": 3
   },
   "file_extension": ".py",
   "mimetype": "text/x-python",
   "name": "python",
   "nbconvert_exporter": "python",
   "pygments_lexer": "ipython3",
   "version": "3.12.5"
  }
 },
 "nbformat": 4,
 "nbformat_minor": 5
}
