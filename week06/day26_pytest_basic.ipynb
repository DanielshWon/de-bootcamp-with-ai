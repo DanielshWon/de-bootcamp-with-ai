{
 "cells": [
  {
   "cell_type": "code",
   "execution_count": 1,
   "id": "fb2d69e7",
   "metadata": {},
   "outputs": [
    {
     "name": "stdout",
     "output_type": "stream",
     "text": [
      "Collecting pytest\n",
      "  Downloading pytest-8.4.0-py3-none-any.whl.metadata (7.7 kB)\n",
      "Requirement already satisfied: colorama>=0.4 in c:\\users\\shwon\\appdata\\roaming\\python\\python312\\site-packages (from pytest) (0.4.6)\n",
      "Collecting iniconfig>=1 (from pytest)\n",
      "  Downloading iniconfig-2.1.0-py3-none-any.whl.metadata (2.7 kB)\n",
      "Requirement already satisfied: packaging>=20 in c:\\users\\shwon\\appdata\\roaming\\python\\python312\\site-packages (from pytest) (24.1)\n",
      "Collecting pluggy<2,>=1.5 (from pytest)\n",
      "  Downloading pluggy-1.6.0-py3-none-any.whl.metadata (4.8 kB)\n",
      "Requirement already satisfied: pygments>=2.7.2 in c:\\users\\shwon\\appdata\\roaming\\python\\python312\\site-packages (from pytest) (2.18.0)\n",
      "Downloading pytest-8.4.0-py3-none-any.whl (363 kB)\n",
      "Downloading iniconfig-2.1.0-py3-none-any.whl (6.0 kB)\n",
      "Downloading pluggy-1.6.0-py3-none-any.whl (20 kB)\n",
      "Installing collected packages: pluggy, iniconfig, pytest\n",
      "Successfully installed iniconfig-2.1.0 pluggy-1.6.0 pytest-8.4.0\n"
     ]
    },
    {
     "name": "stderr",
     "output_type": "stream",
     "text": [
      "\n",
      "[notice] A new release of pip is available: 24.2 -> 25.1.1\n",
      "[notice] To update, run: python.exe -m pip install --upgrade pip\n"
     ]
    }
   ],
   "source": [
    "# Cell 1: pytest 설치 및 import\n",
    "!pip install pytest\n",
    "import pytest"
   ]
  },
  {
   "cell_type": "code",
   "execution_count": 4,
   "id": "82d120a2",
   "metadata": {},
   "outputs": [],
   "source": [
    "# Cell 2: 간단한 함수 만들기 (승환님이 직접!)\n",
    "def classify_age(age):\n",
    "    # 승환님이 작성해보세요!\n",
    "    # 18세 이상이면 \"성인\", 미만이면 \"미성년자\"\n",
    "    if age >= 18:\n",
    "        return \"성인\"\n",
    "    else:\n",
    "        return \"미성년자\"\n",
    "    "
   ]
  },
  {
   "cell_type": "code",
   "execution_count": 6,
   "id": "363fdccd",
   "metadata": {},
   "outputs": [
    {
     "name": "stdout",
     "output_type": "stream",
     "text": [
      "모든 테스트 통과! 🎉\n"
     ]
    }
   ],
   "source": [
    "# Cell 3: 테스트 실행\n",
    "def test_classify_age():\n",
    "    assert classify_age(17) == \"미성년자\"\n",
    "    assert classify_age(18) == \"성인\"  \n",
    "    assert classify_age(25) == \"성인\"\n",
    "\n",
    "# 테스트 실행\n",
    "test_classify_age()\n",
    "print(\"모든 테스트 통과! 🎉\")"
   ]
  },
  {
   "cell_type": "code",
   "execution_count": 8,
   "id": "e1f7a8eb",
   "metadata": {},
   "outputs": [
    {
     "name": "stdout",
     "output_type": "stream",
     "text": [
      "=== pytest 스타일 테스트 실행 ===\n",
      "✅ 기본 테스트 통과\n",
      "✅ 엣지케이스 테스트 통과\n",
      "🎉 모든 pytest 스타일 테스트 완료!\n"
     ]
    }
   ],
   "source": [
    "# Cell 4 수정: 노트북용 pytest\n",
    "import pytest\n",
    "\n",
    "def test_classify_age_with_pytest():\n",
    "    assert classify_age(17) == \"미성년자\"\n",
    "    assert classify_age(18) == \"성인\"\n",
    "    assert classify_age(25) == \"성인\"\n",
    "\n",
    "def test_classify_age_edge_cases():\n",
    "    assert classify_age(0) == \"미성년자\"\n",
    "    assert classify_age(100) == \"성인\"\n",
    "\n",
    "# 노트북에서는 이렇게 실행\n",
    "print(\"=== pytest 스타일 테스트 실행 ===\")\n",
    "test_classify_age_with_pytest()\n",
    "print(\"✅ 기본 테스트 통과\")\n",
    "\n",
    "test_classify_age_edge_cases()\n",
    "print(\"✅ 엣지케이스 테스트 통과\")\n",
    "\n",
    "print(\"🎉 모든 pytest 스타일 테스트 완료!\")"
   ]
  }
 ],
 "metadata": {
  "kernelspec": {
   "display_name": "Python 3",
   "language": "python",
   "name": "python3"
  },
  "language_info": {
   "codemirror_mode": {
    "name": "ipython",
    "version": 3
   },
   "file_extension": ".py",
   "mimetype": "text/x-python",
   "name": "python",
   "nbconvert_exporter": "python",
   "pygments_lexer": "ipython3",
   "version": "3.12.5"
  }
 },
 "nbformat": 4,
 "nbformat_minor": 5
}
