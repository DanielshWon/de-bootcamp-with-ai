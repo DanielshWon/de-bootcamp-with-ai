{
 "cells": [
  {
   "cell_type": "markdown",
   "id": "9575ca36",
   "metadata": {},
   "source": [
    "카페 할인 정책:\n",
    "1. VIP 고객: 20% 할인\n",
    "2. 일반 고객: 10% 할인  \n",
    "3. 구매 금액 50,000원 이상: 추가 5% 할인\n",
    "4. 쿠폰 있으면: 추가 3,000원 할인"
   ]
  },
  {
   "cell_type": "code",
   "execution_count": 3,
   "id": "3a081b15",
   "metadata": {},
   "outputs": [],
   "source": [
    "def calculate_discount(price, customer_grade, has_coupon=False):\n",
    "    # 승환님이 직접 작성해보세요!\n",
    "    # 위의 할인 정책을 코드로 구현\n",
    "    if customer_grade == \"VIP\":\n",
    "        sale_price = price * 0.8\n",
    "    else:\n",
    "        sale_price = price * 0.9\n",
    "    \n",
    "    if price >= 50000:\n",
    "        sale_price *= 0.95\n",
    "    \n",
    "    if has_coupon and sale_price >= 3000:\n",
    "        sale_price = int(sale_price) - 3000\n",
    "    \n",
    "    return sale_price"
   ]
  },
  {
   "cell_type": "code",
   "execution_count": 5,
   "id": "09f7b6e7",
   "metadata": {},
   "outputs": [],
   "source": [
    "def test_calculate_discount():\n",
    "    # 승환님이 직접 작성해보세요!\n",
    "    # 어떤 케이스들을 테스트하면 좋을까요?\n",
    "    assert calculate_discount(30000, \"VIP\") == 24000\n",
    "    \n",
    "    assert calculate_discount(60000,\"일반\",True) == 48300\n",
    "    \n",
    "    assert calculate_discount(100,\"VIP\",True) == 80"
   ]
  },
  {
   "cell_type": "code",
   "execution_count": 6,
   "id": "b5c44607",
   "metadata": {},
   "outputs": [
    {
     "name": "stdout",
     "output_type": "stream",
     "text": [
      "모든 테스트 통과! 🎉\n"
     ]
    }
   ],
   "source": [
    "# 함수 실행\n",
    "test_calculate_discount()\n",
    "print(\"모든 테스트 통과! 🎉\")"
   ]
  }
 ],
 "metadata": {
  "kernelspec": {
   "display_name": "Python 3",
   "language": "python",
   "name": "python3"
  },
  "language_info": {
   "codemirror_mode": {
    "name": "ipython",
    "version": 3
   },
   "file_extension": ".py",
   "mimetype": "text/x-python",
   "name": "python",
   "nbconvert_exporter": "python",
   "pygments_lexer": "ipython3",
   "version": "3.12.5"
  }
 },
 "nbformat": 4,
 "nbformat_minor": 5
}
