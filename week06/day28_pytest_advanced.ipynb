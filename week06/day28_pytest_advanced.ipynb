{
 "cells": [
  {
   "cell_type": "code",
   "execution_count": 4,
   "id": "62bbd4a9",
   "metadata": {},
   "outputs": [
    {
     "name": "stdout",
     "output_type": "stream",
     "text": [
      "           날짜     메뉴    가격  수량\n",
      "0  2025-05-01  아메리카노  4500   2\n",
      "1  2025-06-01   카페라떼  5000   3\n",
      "2  2025-06-02  아이스크림  5000   1\n"
     ]
    }
   ],
   "source": [
    "# Cell 1: 테스트용 데이터 준비\n",
    "import pandas as pd\n",
    "\n",
    "# 승환님이 직접 작성해보세요!\n",
    "# 카페 매출 데이터 (날짜, 메뉴, 가격, 수량)\n",
    "# 예: [[\"2025-01-01\", \"아메리카노\", 4500, 2], ...]\n",
    "\n",
    "data = [\n",
    "    [\"2025-05-01\", \"아메리카노\", 4500, 2],\n",
    "    [\"2025-06-01\", \"카페라떼\", 5000, 3],\n",
    "    [\"2025-06-02\", \"아이스크림\", 5000, 1]\n",
    "]\n",
    "df = pd.DataFrame(data, columns=[\"날짜\",\"메뉴\",\"가격\",\"수량\"])\n",
    "\n",
    "print(df)"
   ]
  },
  {
   "cell_type": "code",
   "execution_count": 5,
   "id": "ce6f7fdd",
   "metadata": {},
   "outputs": [],
   "source": [
    "# Cell 2: CSV 파일로 저장하기\n",
    "# 승환님이 직접 작성해보세요!\n",
    "# 힌트: df.to_csv(\"파일명.csv\", ...)\n",
    "\n",
    "df.to_csv(\"cafe_sales.csv\", index=False)"
   ]
  },
  {
   "cell_type": "code",
   "execution_count": 10,
   "id": "76b9b3a1",
   "metadata": {},
   "outputs": [],
   "source": [
    "# Cell 3: 파일 읽기 함수 만들기\n",
    "def read_cafe_sales(filename):\n",
    "    # 승환님이 직접 작성해보세요!\n",
    "    # CSV 파일을 읽어서 DataFrame으로 반환\n",
    "    # 힌트: pd.read_csv() 사용\n",
    "    df = pd.read_csv(filename)\n",
    "    return df"
   ]
  },
  {
   "cell_type": "code",
   "execution_count": 11,
   "id": "21792705",
   "metadata": {},
   "outputs": [
    {
     "name": "stdout",
     "output_type": "stream",
     "text": [
      "           날짜     메뉴    가격  수량\n",
      "0  2025-05-01  아메리카노  4500   2\n",
      "1  2025-06-01   카페라떼  5000   3\n",
      "2  2025-06-02  아이스크림  5000   1\n"
     ]
    }
   ],
   "source": [
    " # Cell 4: 함수 테스트\n",
    "result = read_cafe_sales(\"cafe_sales.csv\")\n",
    "print(result)"
   ]
  },
  {
   "cell_type": "code",
   "execution_count": 12,
   "id": "7292356d",
   "metadata": {},
   "outputs": [
    {
     "name": "stdout",
     "output_type": "stream",
     "text": [
      "파일이 없어요!\n"
     ]
    }
   ],
   "source": [
    "# Cell 5: 없는 파일 읽기 시도해보기\n",
    "# 일부러 에러를 확인해봐요!\n",
    "try:\n",
    "    result = read_cafe_sales(\"없는파일.csv\")\n",
    "    print(\"성공!\")\n",
    "except FileNotFoundError:\n",
    "    print(\"파일이 없어요!\")"
   ]
  },
  {
   "cell_type": "code",
   "execution_count": 17,
   "id": "a7976614",
   "metadata": {},
   "outputs": [],
   "source": [
    "# Cell 6: pytest로 예외 상황 테스트\n",
    "import pytest\n",
    "\n",
    "def test_file_not_found():\n",
    "    # 승환님이 직접 작성해보세요!\n",
    "    # 힌트: pytest.raises() 사용\n",
    "    # 없는 파일을 읽으려 할 때 FileNotFoundError가 나오는지 테스트\n",
    "    assert read_cafe_sales(\"cafe_sales.csv\")"
   ]
  },
  {
   "cell_type": "code",
   "execution_count": 18,
   "id": "97694aa7",
   "metadata": {},
   "outputs": [],
   "source": [
    "def test_file_not_found():\n",
    "    # 이렇게 써요!\n",
    "    with pytest.raises(FileNotFoundError):\n",
    "        read_cafe_sales(\"없는파일.csv\")"
   ]
  },
  {
   "cell_type": "code",
   "execution_count": 19,
   "id": "223659d5",
   "metadata": {},
   "outputs": [
    {
     "name": "stdout",
     "output_type": "stream",
     "text": [
      "테스트 완료!\n"
     ]
    }
   ],
   "source": [
    "# Cell 7: 테스트 실행\n",
    "test_file_not_found()\n",
    "print(\"테스트 완료!\")"
   ]
  },
  {
   "cell_type": "code",
   "execution_count": 24,
   "id": "eff35d68",
   "metadata": {},
   "outputs": [],
   "source": [
    "# Cell 8: 정상 케이스 테스트\n",
    "def test_normal_file_reading():\n",
    "    # 승환님이 직접 작성해보세요!\n",
    "    # 정상적인 파일을 읽었을 때 DataFrame이 나오는지 테스트\n",
    "    # 힌트: assert isinstance(결과, pd.DataFrame)\n",
    "    assert isinstance(df, pd.DataFrame)\n",
    "\n",
    "test_normal_file_reading()"
   ]
  },
  {
   "cell_type": "code",
   "execution_count": 28,
   "id": "04a3336b",
   "metadata": {},
   "outputs": [
    {
     "name": "stdout",
     "output_type": "stream",
     "text": [
      "정상 읽기 테스트 성공!\n"
     ]
    }
   ],
   "source": [
    "## 정답\n",
    "\n",
    "def test_normal_file_reading():\n",
    "    # 1단계: 함수 호출해서 결과 받기\n",
    "    result = read_cafe_sales(\"cafe_sales.csv\")\n",
    "    \n",
    "    # 2단계: 그 결과가 DataFrame인지 확인\n",
    "    assert isinstance(result, pd.DataFrame)\n",
    "    print(\"정상 읽기 테스트 성공!\")\n",
    "    \n",
    "test_normal_file_reading()"
   ]
  }
 ],
 "metadata": {
  "kernelspec": {
   "display_name": "Python 3",
   "language": "python",
   "name": "python3"
  },
  "language_info": {
   "codemirror_mode": {
    "name": "ipython",
    "version": 3
   },
   "file_extension": ".py",
   "mimetype": "text/x-python",
   "name": "python",
   "nbconvert_exporter": "python",
   "pygments_lexer": "ipython3",
   "version": "3.12.5"
  }
 },
 "nbformat": 4,
 "nbformat_minor": 5
}
