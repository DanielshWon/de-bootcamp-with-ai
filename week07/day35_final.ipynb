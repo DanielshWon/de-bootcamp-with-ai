{
 "cells": [
  {
   "cell_type": "code",
   "execution_count": 1,
   "id": "46c09929",
   "metadata": {},
   "outputs": [
    {
     "name": "stdout",
     "output_type": "stream",
     "text": [
      "🎯 Day 35: 파이썬 기초 부스터 대피날레!\n",
      "딕셔너리 안전 접근 마스터! 💪\n",
      "=== 위험 vs 안전 비교 ===\n",
      "KeyError 발생!\n",
      "이메일 없음\n"
     ]
    }
   ],
   "source": [
    "# 새 파일: week07/day35_final.ipynb\n",
    "print(\"🎯 Day 35: 파이썬 기초 부스터 대피날레!\")\n",
    "print(\"딕셔너리 안전 접근 마스터! 💪\")\n",
    "\n",
    "# 실험: 두 방식의 차이\n",
    "student = {'name': '승환', 'age': 25}\n",
    "\n",
    "# 위험한 방법 vs 안전한 방법\n",
    "print(\"=== 위험 vs 안전 비교 ===\")\n",
    "try:\n",
    "    print(student['email'])  # 위험!\n",
    "except KeyError:\n",
    "    print(\"KeyError 발생!\")\n",
    "\n",
    "print(student.get('email', '이메일 없음'))  # 안전!"
   ]
  },
  {
   "cell_type": "code",
   "execution_count": null,
   "id": "cfbfbc2d",
   "metadata": {},
   "outputs": [],
   "source": [
    "try:\n",
    "    email = student['email']  # 일단 시도해보고\n",
    "except KeyError:\n",
    "    email = '이메일 없음'    # 에러나면 처리\n",
    "    \n",
    "email = student.get('email', '이메일 없음')  # 처음부터 안전하게\n",
    "\n",
    "# Case 1: 딕셔너리 키 접근 → get() 추천!\n",
    "name = user.get('name', '익명')\n",
    "\n",
    "# Case 2: 복잡한 로직 → try/except 추천!\n",
    "try:\n",
    "    result = complex_calculation()\n",
    "    file.write(result)\n",
    "except (ValueError, FileNotFoundError):\n",
    "    handle_error()"
   ]
  },
  {
   "cell_type": "code",
   "execution_count": null,
   "id": "e88ba6b0",
   "metadata": {},
   "outputs": [],
   "source": [
    "# 기본값이 있을 때\n",
    "name = user.get('name', '익명')\n",
    "age = user.get('age', 0)\n",
    "\n",
    "# None도 의미있을 때  \n",
    "email = user.get('email')  # None 반환 OK\n",
    "\n",
    "# 키가 반드시 있어야 하는 상황\n",
    "config = {'api_key': 'secret123'}\n",
    "api_key = config['api_key']  # 없으면 에러내야 정상!\n",
    "\n",
    "# 에러로 문제를 알려야 할 때\n",
    "user_id = session['user_id']  # 로그인 안됐으면 에러!"
   ]
  },
  {
   "cell_type": "code",
   "execution_count": 2,
   "id": "b158169d",
   "metadata": {},
   "outputs": [
    {
     "name": "stdout",
     "output_type": "stream",
     "text": [
      "🔤 문자열 메서드 실전 훈련!\n",
      "=== 1. strip(): 공백 제거 ===\n",
      "원본: '  승환  '\n",
      "정리: '승환'\n",
      "=== 2. split(): 문자열 나누기 ===\n",
      "이메일: seunghwan@naver.com\n",
      "사용자명: seunghwan\n",
      "도메인: naver.com\n",
      "=== 3. join(): 문자열 합치기 ===\n",
      "단어들: ['파이썬은', '재미있다']\n",
      "하이픈 연결: 파이썬은-재미있다\n"
     ]
    }
   ],
   "source": [
    "# 새 셀에서 실행해보세요!\n",
    "print(\"🔤 문자열 메서드 실전 훈련!\")\n",
    "\n",
    "# 실무 상황들\n",
    "messy_name = \"  승환  \"\n",
    "email_raw = \"seunghwan@naver.com\"\n",
    "sentence = \"파이썬은 재미있다\"\n",
    "\n",
    "print(\"=== 1. strip(): 공백 제거 ===\")\n",
    "print(f\"원본: '{messy_name}'\")\n",
    "print(f\"정리: '{messy_name.strip()}'\")\n",
    "\n",
    "print(\"=== 2. split(): 문자열 나누기 ===\")\n",
    "print(f\"이메일: {email_raw}\")\n",
    "username, domain = email_raw.split('@')\n",
    "print(f\"사용자명: {username}\")\n",
    "print(f\"도메인: {domain}\")\n",
    "\n",
    "print(\"=== 3. join(): 문자열 합치기 ===\")\n",
    "words = sentence.split()\n",
    "print(f\"단어들: {words}\")\n",
    "result = \"-\".join(words)\n",
    "print(f\"하이픈 연결: {result}\")"
   ]
  },
  {
   "cell_type": "code",
   "execution_count": 3,
   "id": "b33792b7",
   "metadata": {},
   "outputs": [
    {
     "name": "stdout",
     "output_type": "stream",
     "text": [
      "공백없이: 파이썬은재미있다\n",
      "하이픈으로: 파이썬-은-재미있다\n",
      "공백으로: 파이썬 은 재미있다\n",
      "공백없이: 파이썬은재미있다\n"
     ]
    }
   ],
   "source": [
    "# 바로 실험해봐요!\n",
    "words = [\"파이썬\", \"은\", \"재미있다\"]\n",
    "\n",
    "# 공백없이 합치기\n",
    "result = \"\".join(words)  # 빈 문자열로 연결!\n",
    "print(f\"공백없이: {result}\")  # 파이썬은재미있다\n",
    "\n",
    "# 비교해보기\n",
    "print(f\"하이픈으로: {'-'.join(words)}\")    # 파이썬-은-재미있다\n",
    "print(f\"공백으로: {' '.join(words)}\")      # 파이썬 은 재미있다  \n",
    "print(f\"공백없이: {''.join(words)}\")       # 파이썬은재미있다"
   ]
  },
  {
   "cell_type": "code",
   "execution_count": 7,
   "id": "99a9801e",
   "metadata": {},
   "outputs": [
    {
     "name": "stdout",
     "output_type": "stream",
     "text": [
      "🎮 파이썬 기초 마스터 최종 도전!\n",
      "학생 관리 시스템 v1.0\n",
      "==============================\n",
      "존재하지 않는 학생id입니다\n"
     ]
    },
    {
     "ename": "UnboundLocalError",
     "evalue": "cannot access local variable 'student' where it is not associated with a value",
     "output_type": "error",
     "traceback": [
      "\u001b[1;31m---------------------------------------------------------------------------\u001b[0m",
      "\u001b[1;31mUnboundLocalError\u001b[0m                         Traceback (most recent call last)",
      "Cell \u001b[1;32mIn[7], line 33\u001b[0m\n\u001b[0;32m     31\u001b[0m \u001b[38;5;66;03m# 테스트\u001b[39;00m\n\u001b[0;32m     32\u001b[0m show_student_info(\u001b[38;5;241m0\u001b[39m)  \u001b[38;5;66;03m# 정상\u001b[39;00m\n\u001b[1;32m---> 33\u001b[0m \u001b[43mshow_student_info\u001b[49m\u001b[43m(\u001b[49m\u001b[38;5;241;43m10\u001b[39;49m\u001b[43m)\u001b[49m \u001b[38;5;66;03m# IndexError 처리\u001b[39;00m\n",
      "Cell \u001b[1;32mIn[7], line 21\u001b[0m, in \u001b[0;36mshow_student_info\u001b[1;34m(student_id)\u001b[0m\n\u001b[0;32m     18\u001b[0m \u001b[38;5;28;01mexcept\u001b[39;00m:\n\u001b[0;32m     19\u001b[0m     \u001b[38;5;28mprint\u001b[39m(\u001b[38;5;124m\"\u001b[39m\u001b[38;5;124m존재하지 않는 학생id입니다\u001b[39m\u001b[38;5;124m\"\u001b[39m)\n\u001b[1;32m---> 21\u001b[0m name \u001b[38;5;241m=\u001b[39m \u001b[43mstudent\u001b[49m\u001b[38;5;241m.\u001b[39mget(\u001b[38;5;124m\"\u001b[39m\u001b[38;5;124mname\u001b[39m\u001b[38;5;124m\"\u001b[39m,\u001b[38;5;124m'\u001b[39m\u001b[38;5;124m이름\u001b[39m\u001b[38;5;124m'\u001b[39m)\n\u001b[0;32m     22\u001b[0m age \u001b[38;5;241m=\u001b[39m student\u001b[38;5;241m.\u001b[39mget(\u001b[38;5;124m\"\u001b[39m\u001b[38;5;124mage\u001b[39m\u001b[38;5;124m\"\u001b[39m, \u001b[38;5;124m'\u001b[39m\u001b[38;5;124m0\u001b[39m\u001b[38;5;124m'\u001b[39m)\n\u001b[0;32m     23\u001b[0m major \u001b[38;5;241m=\u001b[39m student\u001b[38;5;241m.\u001b[39mget(\u001b[38;5;124m\"\u001b[39m\u001b[38;5;124mmajor\u001b[39m\u001b[38;5;124m\"\u001b[39m, \u001b[38;5;124m'\u001b[39m\u001b[38;5;124mnomajor\u001b[39m\u001b[38;5;124m'\u001b[39m)\n",
      "\u001b[1;31mUnboundLocalError\u001b[0m: cannot access local variable 'student' where it is not associated with a value"
     ]
    }
   ],
   "source": [
    "print(\"🎮 파이썬 기초 마스터 최종 도전!\")\n",
    "print(\"학생 관리 시스템 v1.0\")\n",
    "print(\"=\" * 30)\n",
    "\n",
    "# 학생 데이터베이스 (리스트 안에 딕셔너리들)\n",
    "students = [\n",
    "    {'name': '김철수', 'age': 20, 'major': '컴퓨터'},\n",
    "    {'name': '이영희', 'age': 19, 'major': '수학'},\n",
    "    {'name': '박민수', 'age': 21}  # major 없음!\n",
    "]\n",
    "\n",
    "# 미션 1: 안전하게 학생 정보 출력하는 함수 만들기\n",
    "def show_student_info(student_id):\n",
    "    # 여기서 모든 기술을 다 써보세요!\n",
    "    # 예외처리 + 딕셔너리 안전접근 + 문자열 처리\n",
    "    try:\n",
    "        student = students[student_id]\n",
    "    except:\n",
    "        print(\"존재하지 않는 학생id입니다\")\n",
    "    \n",
    "    name = student.get(\"name\",'이름')\n",
    "    age = student.get(\"age\", '0')\n",
    "    major = student.get(\"major\", 'nomajor')\n",
    "    \n",
    "    result = f\"이름 : {name}\" + f\"나이 : {age}\" + f\"전공 : {major}\"\n",
    "    \n",
    "    return result\n",
    "    \n",
    "        \n",
    "\n",
    "# 테스트\n",
    "show_student_info(0)  # 정상\n",
    "show_student_info(10) # IndexError 처리"
   ]
  },
  {
   "cell_type": "code",
   "execution_count": 6,
   "id": "25528448",
   "metadata": {},
   "outputs": [],
   "source": [
    "## 수정본\n",
    "\n",
    "def show_student_info(student_id):\n",
    "    try:\n",
    "        student = students[student_id]\n",
    "    except IndexError:  # 구체적 에러명이 더 좋아요!\n",
    "        print(\"존재하지 않는 학생id입니다\")\n",
    "        return None  # 여기서 함수 종료! ✅\n",
    "        \n",
    "    name = student.get(\"name\",'이름없음')\n",
    "    age = student.get(\"age\", 0)\n",
    "    major = student.get(\"major\", '전공없음')\n",
    "        \n",
    "    result = f\"이름: {name}, 나이: {age}, 전공: {major}\"\n",
    "    print(result)  # 출력도 해주고\n",
    "    return result  # 반환도 해주기"
   ]
  },
  {
   "cell_type": "code",
   "execution_count": null,
   "id": "4ec8f1b8",
   "metadata": {},
   "outputs": [
    {
     "name": "stdout",
     "output_type": "stream",
     "text": [
      "🎮 파이썬 기초 마스터 최종 도전!\n",
      "학생 관리 시스템 v1.0\n",
      "==============================\n",
      "이름: 김철수, 나이: 20, 전공: 컴퓨터\n",
      "존재하지 않는 학생id입니다\n"
     ]
    }
   ],
   "source": [
    "# 최종\n",
    "\n",
    "print(\"🎮 파이썬 기초 마스터 최종 도전!\")\n",
    "print(\"학생 관리 시스템 v1.0\")\n",
    "print(\"=\" * 30)\n",
    "\n",
    "# 학생 데이터베이스 (리스트 안에 딕셔너리들)\n",
    "students = [\n",
    "    {'name': '김철수', 'age': 20, 'major': '컴퓨터'},\n",
    "    {'name': '이영희', 'age': 19, 'major': '수학'},\n",
    "    {'name': '박민수', 'age': 21}  # major 없음!\n",
    "]\n",
    "\n",
    "# 미션 1: 안전하게 학생 정보 출력하는 함수 만들기\n",
    "def show_student_info(student_id):\n",
    "    try:\n",
    "        student = students[student_id]\n",
    "    except IndexError:  # 구체적 에러명이 더 좋아요!\n",
    "        print(\"존재하지 않는 학생id입니다\")\n",
    "        return None  # 여기서 함수 종료! ✅\n",
    "        \n",
    "    name = student.get(\"name\",'이름없음')\n",
    "    age = student.get(\"age\", 0)\n",
    "    major = student.get(\"major\", '전공없음')\n",
    "        \n",
    "    result = f\"이름: {name}, 나이: {age}, 전공: {major}\"\n",
    "    print(result)  # 출력도 해주고\n",
    "    return result  # 반환도 해주기\n",
    "    \n",
    "        \n",
    "\n",
    "# 테스트\n",
    "show_student_info(0)  # 정상\n",
    "show_student_info(10) # IndexError 처리"
   ]
  },
  {
   "cell_type": "code",
   "execution_count": null,
   "id": "973b993d",
   "metadata": {},
   "outputs": [],
   "source": [
    "# 패턴 1: None 반환\n",
    "except FileNotFoundError:\n",
    "    return None\n",
    "\n",
    "# 패턴 2: 기본값 반환  \n",
    "except ValueError:\n",
    "    return \"기본값\"\n",
    "\n",
    "# 패턴 3: 빈 결과 반환\n",
    "except KeyError:\n",
    "    return []"
   ]
  }
 ],
 "metadata": {
  "kernelspec": {
   "display_name": "Python 3",
   "language": "python",
   "name": "python3"
  },
  "language_info": {
   "codemirror_mode": {
    "name": "ipython",
    "version": 3
   },
   "file_extension": ".py",
   "mimetype": "text/x-python",
   "name": "python",
   "nbconvert_exporter": "python",
   "pygments_lexer": "ipython3",
   "version": "3.12.5"
  }
 },
 "nbformat": 4,
 "nbformat_minor": 5
}
