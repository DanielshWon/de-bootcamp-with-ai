{
 "cells": [
  {
   "cell_type": "code",
   "execution_count": 1,
   "id": "741c29db",
   "metadata": {},
   "outputs": [
    {
     "name": "stdout",
     "output_type": "stream",
     "text": [
      "🔧 Day 34: 함수 고급 개념 마스터!\n",
      "승환님의 함수 자신감 회복 프로젝트! 💪\n",
      "함수 내부에서 실행됨!\n",
      "result의 값: None\n",
      "result의 타입: <class 'NoneType'>\n"
     ]
    }
   ],
   "source": [
    "print(\"🔧 Day 34: 함수 고급 개념 마스터!\")\n",
    "print(\"승환님의 함수 자신감 회복 프로젝트! 💪\")\n",
    "\n",
    "# 실험 1: return 없는 함수의 정체\n",
    "def mystery_function():\n",
    "    print(\"함수 내부에서 실행됨!\")\n",
    "    # return이 없어요!\n",
    "\n",
    "result = mystery_function()\n",
    "print(f\"result의 값: {result}\")\n",
    "print(f\"result의 타입: {type(result)}\")"
   ]
  },
  {
   "cell_type": "code",
   "execution_count": 2,
   "id": "9130c6fe",
   "metadata": {},
   "outputs": [
    {
     "name": "stdout",
     "output_type": "stream",
     "text": [
      "50\n",
      "100\n"
     ]
    }
   ],
   "source": [
    "x = 100  # 전역변수\n",
    "\n",
    "def test():\n",
    "    x = 50  # 지역변수\n",
    "    print(x)\n",
    "\n",
    "test()\n",
    "print(x)"
   ]
  },
  {
   "cell_type": "code",
   "execution_count": 3,
   "id": "831433c6",
   "metadata": {},
   "outputs": [
    {
     "name": "stdout",
     "output_type": "stream",
     "text": [
      "🔍 함수 스코프 실험!\n",
      "시작 money: 1000\n",
      "함수 내부 money: 500\n",
      "함수 후 money: 1000\n"
     ]
    }
   ],
   "source": [
    "print(\"🔍 함수 스코프 실험!\")\n",
    "\n",
    "# 전역 변수\n",
    "money = 1000\n",
    "print(f\"시작 money: {money}\")\n",
    "\n",
    "def spend_money():\n",
    "    money = 500  # 지역 변수! (전역과 다른 변수)\n",
    "    print(f\"함수 내부 money: {money}\")\n",
    "\n",
    "spend_money()\n",
    "print(f\"함수 후 money: {money}\")"
   ]
  },
  {
   "cell_type": "code",
   "execution_count": 4,
   "id": "d51b5ad0",
   "metadata": {},
   "outputs": [
    {
     "name": "stdout",
     "output_type": "stream",
     "text": [
      "🧠 논리 연산 마스터 도전!\n",
      "=== 실험 1: and vs or 우선순위 ===\n",
      "True and False or True = True\n",
      "=== 실험 2: 괄호로 단계별 확인 ===\n",
      "1단계: True and False = False\n",
      "2단계: False or True = True\n",
      "=== 실험 3: 다른 조합 ===\n",
      "False or True and False = False\n"
     ]
    }
   ],
   "source": [
    "print(\"🧠 논리 연산 마스터 도전!\")\n",
    "\n",
    "# 실험 1: 기본 우선순위\n",
    "print(\"=== 실험 1: and vs or 우선순위 ===\")\n",
    "result1 = True and False or True\n",
    "print(f\"True and False or True = {result1}\")\n",
    "\n",
    "# 실험 2: 괄호로 명확하게\n",
    "print(\"=== 실험 2: 괄호로 단계별 확인 ===\")\n",
    "step1 = True and False  # 먼저 계산\n",
    "print(f\"1단계: True and False = {step1}\")\n",
    "step2 = step1 or True   # 그 다음 계산  \n",
    "print(f\"2단계: {step1} or True = {step2}\")\n",
    "\n",
    "# 실험 3: 다른 예제\n",
    "print(\"=== 실험 3: 다른 조합 ===\")\n",
    "result2 = False or True and False\n",
    "print(f\"False or True and False = {result2}\")"
   ]
  }
 ],
 "metadata": {
  "kernelspec": {
   "display_name": "Python 3",
   "language": "python",
   "name": "python3"
  },
  "language_info": {
   "codemirror_mode": {
    "name": "ipython",
    "version": 3
   },
   "file_extension": ".py",
   "mimetype": "text/x-python",
   "name": "python",
   "nbconvert_exporter": "python",
   "pygments_lexer": "ipython3",
   "version": "3.12.5"
  }
 },
 "nbformat": 4,
 "nbformat_minor": 5
}
