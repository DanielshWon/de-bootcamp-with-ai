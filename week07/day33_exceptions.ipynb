{
 "cells": [
  {
   "cell_type": "code",
   "execution_count": null,
   "id": "1f4f1a68",
   "metadata": {},
   "outputs": [],
   "source": [
    "# Day 33: 파이썬 예외 처리 마스터\n",
    "# 목표: KeyError, TypeError, IndexError 완전 정복!\n",
    "\n",
    "print(\"🚨 예외 처리 실습 시작!\")\n",
    "print(\"승환님의 파이썬 자신감 회복 프로젝트! 💪\")"
   ]
  },
  {
   "cell_type": "code",
   "execution_count": 6,
   "id": "057c5c14",
   "metadata": {},
   "outputs": [
    {
     "ename": "KeyError",
     "evalue": "'email'",
     "output_type": "error",
     "traceback": [
      "\u001b[1;31m---------------------------------------------------------------------------\u001b[0m",
      "\u001b[1;31mKeyError\u001b[0m                                  Traceback (most recent call last)",
      "Cell \u001b[1;32mIn[6], line 5\u001b[0m\n\u001b[0;32m      1\u001b[0m \u001b[38;5;66;03m# 실험 코드를 직접 실행해보세요!\u001b[39;00m\n\u001b[0;32m      2\u001b[0m \n\u001b[0;32m      3\u001b[0m \u001b[38;5;66;03m# 1. KeyError 만들어보기\u001b[39;00m\n\u001b[0;32m      4\u001b[0m data \u001b[38;5;241m=\u001b[39m {\u001b[38;5;124m'\u001b[39m\u001b[38;5;124mname\u001b[39m\u001b[38;5;124m'\u001b[39m: \u001b[38;5;124m'\u001b[39m\u001b[38;5;124m승환\u001b[39m\u001b[38;5;124m'\u001b[39m, \u001b[38;5;124m'\u001b[39m\u001b[38;5;124mage\u001b[39m\u001b[38;5;124m'\u001b[39m: \u001b[38;5;241m25\u001b[39m}\n\u001b[1;32m----> 5\u001b[0m \u001b[38;5;28mprint\u001b[39m(\u001b[43mdata\u001b[49m\u001b[43m[\u001b[49m\u001b[38;5;124;43m'\u001b[39;49m\u001b[38;5;124;43memail\u001b[39;49m\u001b[38;5;124;43m'\u001b[39;49m\u001b[43m]\u001b[49m)  \u001b[38;5;66;03m# 이걸 실행하면?\u001b[39;00m\n\u001b[0;32m      7\u001b[0m \u001b[38;5;66;03m# 2. TypeError 만들어보기  \u001b[39;00m\n\u001b[0;32m      8\u001b[0m text \u001b[38;5;241m=\u001b[39m \u001b[38;5;124m\"\u001b[39m\u001b[38;5;124mhello\u001b[39m\u001b[38;5;124m\"\u001b[39m\n",
      "\u001b[1;31mKeyError\u001b[0m: 'email'"
     ]
    }
   ],
   "source": [
    "# 실험 코드를 직접 실행해보세요!\n",
    "\n",
    "# 1. KeyError 만들어보기\n",
    "data = {'name': '승환', 'age': 25}\n",
    "print(data['email'])  # 이걸 실행하면?\n",
    "\n",
    "# 2. TypeError 만들어보기  \n",
    "text = \"hello\"\n",
    "print(text + 123)  # 이걸 실행하면?\n",
    "\n",
    "# 3. IndexError 만들어보기\n",
    "numbers = [1, 2, 3]\n",
    "print(numbers[10])  # 이걸 실행하면?"
   ]
  },
  {
   "cell_type": "code",
   "execution_count": 7,
   "id": "8562d72a",
   "metadata": {},
   "outputs": [
    {
     "ename": "IndexError",
     "evalue": "list index out of range",
     "output_type": "error",
     "traceback": [
      "\u001b[1;31m---------------------------------------------------------------------------\u001b[0m",
      "\u001b[1;31mIndexError\u001b[0m                                Traceback (most recent call last)",
      "Cell \u001b[1;32mIn[7], line 5\u001b[0m\n\u001b[0;32m      1\u001b[0m \u001b[38;5;66;03m# 실험해봅시다! 다음 셀에 실행해보세요:\u001b[39;00m\n\u001b[0;32m      2\u001b[0m \n\u001b[0;32m      3\u001b[0m \u001b[38;5;66;03m# 리스트에서 없는 인덱스\u001b[39;00m\n\u001b[0;32m      4\u001b[0m numbers \u001b[38;5;241m=\u001b[39m [\u001b[38;5;241m1\u001b[39m, \u001b[38;5;241m2\u001b[39m, \u001b[38;5;241m3\u001b[39m]\n\u001b[1;32m----> 5\u001b[0m \u001b[38;5;28mprint\u001b[39m(\u001b[43mnumbers\u001b[49m\u001b[43m[\u001b[49m\u001b[38;5;241;43m10\u001b[39;49m\u001b[43m]\u001b[49m)  \u001b[38;5;66;03m# 이건 뭐가 나올까요?\u001b[39;00m\n\u001b[0;32m      7\u001b[0m \u001b[38;5;66;03m# 세트에서 없는 값 (참고용)\u001b[39;00m\n\u001b[0;32m      8\u001b[0m my_set \u001b[38;5;241m=\u001b[39m {\u001b[38;5;241m1\u001b[39m, \u001b[38;5;241m2\u001b[39m, \u001b[38;5;241m3\u001b[39m}\n",
      "\u001b[1;31mIndexError\u001b[0m: list index out of range"
     ]
    }
   ],
   "source": [
    "# 실험해봅시다! 다음 셀에 실행해보세요:\n",
    "\n",
    "# 리스트에서 없는 인덱스\n",
    "numbers = [1, 2, 3]\n",
    "print(numbers[10])  # 이건 뭐가 나올까요?\n",
    "\n",
    "# 세트에서 없는 값 (참고용)\n",
    "my_set = {1, 2, 3}\n",
    "print(2 in my_set)  # True\n",
    "print(10 in my_set)  # False (에러 안남!)"
   ]
  },
  {
   "cell_type": "code",
   "execution_count": 8,
   "id": "81d3e7b6",
   "metadata": {},
   "outputs": [
    {
     "ename": "TypeError",
     "evalue": "can only concatenate str (not \"int\") to str",
     "output_type": "error",
     "traceback": [
      "\u001b[1;31m---------------------------------------------------------------------------\u001b[0m",
      "\u001b[1;31mTypeError\u001b[0m                                 Traceback (most recent call last)",
      "Cell \u001b[1;32mIn[8], line 3\u001b[0m\n\u001b[0;32m      1\u001b[0m \u001b[38;5;66;03m# 3번째 실험 - TypeError\u001b[39;00m\n\u001b[0;32m      2\u001b[0m text \u001b[38;5;241m=\u001b[39m \u001b[38;5;124m\"\u001b[39m\u001b[38;5;124mhello\u001b[39m\u001b[38;5;124m\"\u001b[39m\n\u001b[1;32m----> 3\u001b[0m \u001b[38;5;28mprint\u001b[39m(\u001b[43mtext\u001b[49m\u001b[43m \u001b[49m\u001b[38;5;241;43m+\u001b[39;49m\u001b[43m \u001b[49m\u001b[38;5;241;43m123\u001b[39;49m)\n",
      "\u001b[1;31mTypeError\u001b[0m: can only concatenate str (not \"int\") to str"
     ]
    }
   ],
   "source": [
    "# 3번째 실험 - TypeError\n",
    "text = \"hello\"\n",
    "print(text + 123)"
   ]
  },
  {
   "cell_type": "code",
   "execution_count": 9,
   "id": "e211e651",
   "metadata": {},
   "outputs": [
    {
     "name": "stdout",
     "output_type": "stream",
     "text": [
      "=== 에러 처리 전 (위험) ===\n",
      "이 메시지는 안 보여요... 😢\n",
      "\n",
      "=== 에러 처리 후 (안전) ===\n",
      "email 키가 없네요! 기본값을 사용할게요 📧\n",
      "이 메시지는 잘 보여요! 😊\n"
     ]
    }
   ],
   "source": [
    "# 새 셀에 이 코드를 실행해보세요!\n",
    "\n",
    "print(\"=== 에러 처리 전 (위험) ===\")\n",
    "data = {'name': '승환', 'age': 25}\n",
    "# print(data['email'])  # 이거 주석 풀면 여기서 멈춤!\n",
    "print(\"이 메시지는 안 보여요... 😢\")\n",
    "\n",
    "print(\"\\n=== 에러 처리 후 (안전) ===\")\n",
    "try:\n",
    "    print(data['email'])  # 에러 날 거야!\n",
    "except KeyError:\n",
    "    print(\"email 키가 없네요! 기본값을 사용할게요 📧\")\n",
    "    \n",
    "print(\"이 메시지는 잘 보여요! 😊\")"
   ]
  },
  {
   "cell_type": "code",
   "execution_count": 10,
   "id": "d8934001",
   "metadata": {},
   "outputs": [
    {
     "name": "stdout",
     "output_type": "stream",
     "text": [
      "이메일 정보가 없어요!\n",
      "리스트 범위를 벗어났어요!\n",
      "타입이 맞지 않아요!\n"
     ]
    }
   ],
   "source": [
    "# 1. KeyError 처리\n",
    "try:\n",
    "    data = {'name': '승환'}\n",
    "    print(data['email'])\n",
    "except KeyError:\n",
    "    print(\"이메일 정보가 없어요!\")\n",
    "\n",
    "# 2. IndexError 처리  \n",
    "try:\n",
    "    numbers = [1, 2, 3]\n",
    "    print(numbers[10])\n",
    "except IndexError:\n",
    "    print(\"리스트 범위를 벗어났어요!\")\n",
    "\n",
    "# 3. TypeError 처리\n",
    "try:\n",
    "    result = \"hello\" + 123\n",
    "except TypeError:\n",
    "    print(\"타입이 맞지 않아요!\")"
   ]
  },
  {
   "cell_type": "code",
   "execution_count": 13,
   "id": "735c296f",
   "metadata": {},
   "outputs": [],
   "source": [
    "# 이런 상황들이 벌어질 수 있어요:\n",
    "\n",
    "students = [\n",
    "    {'name': '김철수', 'age': 20},\n",
    "    {'name': '이영희', 'age': 19}\n",
    "]\n",
    "\n",
    "# 미션 1: 학생 정보 출력 (3가지 에러 가능!)\n",
    "def print_student_info(student_id, info_type):\n",
    "    try:\n",
    "        # IndexError 가능: 없는 학생 번호\n",
    "        student = students[student_id]\n",
    "        \n",
    "        # KeyError 가능: 없는 정보 요청  \n",
    "        info = student[info_type]\n",
    "        \n",
    "        # TypeError 가능: 잘못된 계산\n",
    "        message = \"학생 정보: \" + info\n",
    "        \n",
    "        print(message)\n",
    "        \n",
    "    except IndexError:\n",
    "        print(\"❌ 그런 학생 없어요!\")\n",
    "    except KeyError:\n",
    "        print(\"❌ 그런 정보 없어요!\")  \n",
    "    except TypeError:\n",
    "        print(\"❌ 정보 형태가 이상해요!\")# 이런 상황들이 벌어질 수 있어요:\n"
   ]
  },
  {
   "cell_type": "code",
   "execution_count": 14,
   "id": "72f73546",
   "metadata": {},
   "outputs": [
    {
     "name": "stdout",
     "output_type": "stream",
     "text": [
      "학생 정보: 김철수\n",
      "❌ 그런 학생 없어요!\n",
      "❌ 그런 정보 없어요!\n",
      "❌ 정보 형태가 이상해요!\n"
     ]
    }
   ],
   "source": [
    "# 다시 실행해보세요!\n",
    "print_student_info(0, 'name')     # 정상: \"학생 정보: 김철수\"\n",
    "print_student_info(10, 'name')    # IndexError 처리!\n",
    "print_student_info(0, 'email')    # KeyError 처리!\n",
    "print_student_info(0, 'age')      # TypeError 처리!"
   ]
  }
 ],
 "metadata": {
  "kernelspec": {
   "display_name": "Python 3",
   "language": "python",
   "name": "python3"
  },
  "language_info": {
   "codemirror_mode": {
    "name": "ipython",
    "version": 3
   },
   "file_extension": ".py",
   "mimetype": "text/x-python",
   "name": "python",
   "nbconvert_exporter": "python",
   "pygments_lexer": "ipython3",
   "version": "3.12.5"
  }
 },
 "nbformat": 4,
 "nbformat_minor": 5
}
