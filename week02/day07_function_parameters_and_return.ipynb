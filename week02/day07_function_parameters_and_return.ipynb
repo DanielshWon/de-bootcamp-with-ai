{
 "cells": [
  {
   "cell_type": "code",
   "execution_count": 1,
   "id": "d46d0338",
   "metadata": {},
   "outputs": [],
   "source": [
    "def introduce(name, age):\n",
    "    print(f\"제 이름은 {name}이고, 나이는 {age}살입니다.\")\n"
   ]
  },
  {
   "cell_type": "code",
   "execution_count": 2,
   "id": "6465e4b5",
   "metadata": {},
   "outputs": [
    {
     "name": "stdout",
     "output_type": "stream",
     "text": [
      "6\n",
      "30\n"
     ]
    }
   ],
   "source": [
    "## 가변변수 예시\n",
    "\n",
    "def my_sum(*args):\n",
    "    total = 0\n",
    "    for num in args:\n",
    "        total += num\n",
    "    return total\n",
    "\n",
    "print(my_sum(1, 2, 3))  # 6\n",
    "print(my_sum(10, 20))   # 30\n"
   ]
  },
  {
   "cell_type": "code",
   "execution_count": null,
   "id": "59e1b7ba",
   "metadata": {},
   "outputs": [],
   "source": [
    "def sum_even_numbers(*args):\n",
    "    total = 0\n",
    "    for num in args:\n",
    "        if num % 2 == 0:\n",
    "            total += num\n",
    "        else:               # 반복이 중단됨됨\n",
    "            break\n",
    "    return total"
   ]
  },
  {
   "cell_type": "code",
   "execution_count": null,
   "id": "411a2984",
   "metadata": {},
   "outputs": [],
   "source": [
    "# 정답\n",
    "\n",
    "def sum_even_numbers(*args):\n",
    "    total = 0\n",
    "    for num in args:\n",
    "        if num % 2 == 0:\n",
    "            total += num\n",
    "    return total\n"
   ]
  },
  {
   "cell_type": "code",
   "execution_count": 4,
   "id": "5eee671d",
   "metadata": {},
   "outputs": [],
   "source": [
    "def create_profile(name,age,*languages):\n",
    "    return{\n",
    "        \"name\": name,\n",
    "        \"age\": age,\n",
    "        \"languages\": list(languages)\n",
    "    }"
   ]
  }
 ],
 "metadata": {
  "kernelspec": {
   "display_name": "Python 3",
   "language": "python",
   "name": "python3"
  },
  "language_info": {
   "codemirror_mode": {
    "name": "ipython",
    "version": 3
   },
   "file_extension": ".py",
   "mimetype": "text/x-python",
   "name": "python",
   "nbconvert_exporter": "python",
   "pygments_lexer": "ipython3",
   "version": "3.12.5"
  }
 },
 "nbformat": 4,
 "nbformat_minor": 5
}
