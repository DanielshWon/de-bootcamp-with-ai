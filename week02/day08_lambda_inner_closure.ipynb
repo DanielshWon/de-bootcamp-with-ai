{
 "cells": [
  {
   "cell_type": "code",
   "execution_count": null,
   "id": "cc393a07",
   "metadata": {},
   "outputs": [
    {
     "name": "stdout",
     "output_type": "stream",
     "text": [
      "8\n"
     ]
    }
   ],
   "source": [
    "## 람다함수로 a 와 b 를 더하는 코드\n",
    "\n",
    "add_lambda = lambda a,b : a + b\n",
    "print(add_lambda(3, 5))\n"
   ]
  },
  {
   "cell_type": "code",
   "execution_count": null,
   "id": "051cb3a9",
   "metadata": {},
   "outputs": [
    {
     "name": "stdout",
     "output_type": "stream",
     "text": [
      "Hello from inner!\n"
     ]
    }
   ],
   "source": [
    "## 내부함수로 문자출력\n",
    "\n",
    "def outer():\n",
    "    def inner():\n",
    "       print(\"Hello from inner!\")\n",
    "    inner()\n",
    "\n",
    "outer()\n"
   ]
  },
  {
   "cell_type": "code",
   "execution_count": 3,
   "id": "7d44e202",
   "metadata": {},
   "outputs": [
    {
     "name": "stdout",
     "output_type": "stream",
     "text": [
      "승환아, 오늘도 잘했어\n"
     ]
    }
   ],
   "source": [
    "def coach():\n",
    "    message = \"승환아, 오늘도 잘했어\"\n",
    "    def feedback():\n",
    "        print(message)\n",
    "    return feedback\n",
    "\n",
    "daily_feedback = coach()\n",
    "daily_feedback()\n"
   ]
  },
  {
   "cell_type": "code",
   "execution_count": null,
   "id": "15a84c78",
   "metadata": {},
   "outputs": [
    {
     "name": "stdout",
     "output_type": "stream",
     "text": [
      "15\n",
      "None\n",
      "20\n",
      "None\n"
     ]
    }
   ],
   "source": [
    "def make_multiplier(n):\n",
    "    num = n             ## 변수 저장할 필요없음음\n",
    "    def multiplier(x):\n",
    "        print(num * x)  ## print 가 아니라 return 써야함함\n",
    "    return multiplier\n",
    "\n",
    "multiply_by_3 = make_multiplier(3)\n",
    "multiply_by_10 = make_multiplier(10)\n",
    "\n",
    "print(multiply_by_3(5))   # 출력: 15\n",
    "print(multiply_by_10(2))  # 출력: 20"
   ]
  },
  {
   "cell_type": "code",
   "execution_count": null,
   "id": "36d98be3",
   "metadata": {},
   "outputs": [],
   "source": [
    "def make_multiplier(n):\n",
    "    def multiplier(x):\n",
    "        return n * x  # ✅ 핵심 수정: print → return\n",
    "    return multiplier\n",
    "\n",
    "multiply_by_3 = make_multiplier(3)\n",
    "multiply_by_10 = make_multiplier(10)\n",
    "\n",
    "print(multiply_by_3(5))   # 15\n",
    "print(multiply_by_10(2))  # 20\n"
   ]
  }
 ],
 "metadata": {
  "kernelspec": {
   "display_name": "Python 3",
   "language": "python",
   "name": "python3"
  },
  "language_info": {
   "codemirror_mode": {
    "name": "ipython",
    "version": 3
   },
   "file_extension": ".py",
   "mimetype": "text/x-python",
   "name": "python",
   "nbconvert_exporter": "python",
   "pygments_lexer": "ipython3",
   "version": "3.12.5"
  }
 },
 "nbformat": 4,
 "nbformat_minor": 5
}
