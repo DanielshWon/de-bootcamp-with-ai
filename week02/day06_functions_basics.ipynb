{
 "cells": [
  {
   "cell_type": "code",
   "execution_count": null,
   "id": "1a828765",
   "metadata": {},
   "outputs": [],
   "source": [
    "## 두 수를 더하는 함수\n",
    "def add_numbers(a, b):\n",
    "    return a + b\n",
    "\n",
    "print(add_numbers(3, 5))  # 출력: 8\n",
    "\n",
    "## 두 수를 곱하는 함수 (b는 기본값 2)\n",
    "def multiply(a, b=2):\n",
    "    return a * b\n",
    "\n",
    "print(multiply(4))    # 출력: 8\n",
    "print(multiply(4, 3)) # 출력: 12\n"
   ]
  },
  {
   "cell_type": "code",
   "execution_count": null,
   "id": "6f8a19dd",
   "metadata": {},
   "outputs": [],
   "source": [
    "# 곱셈함수 기본값 활용\n",
    "\n",
    "def multiply(a,b = 2): # 기본값 매개변수는 무조건 뒤쪽에\n",
    "    return a * b"
   ]
  },
  {
   "cell_type": "code",
   "execution_count": 1,
   "id": "b8cfd3d3",
   "metadata": {},
   "outputs": [],
   "source": [
    "## 합과 평균을 리턴하는 함수\n",
    "\n",
    "def calculate_sum_and_avg(a,b,c):\n",
    "    sum = a + b + c\n",
    "    avg = (a + b + c) / 3  ## sum / 3 으로 작성하면 더 가독성이 좋아짐\n",
    "    return sum,avg"
   ]
  },
  {
   "cell_type": "code",
   "execution_count": null,
   "id": "843a1c47",
   "metadata": {},
   "outputs": [
    {
     "data": {
      "text/plain": [
       "(18, 6.0)"
      ]
     },
     "execution_count": 3,
     "metadata": {},
     "output_type": "execute_result"
    }
   ],
   "source": [
    "result = calculate_sum_and_avg(3,6,9)\n",
    "print(result)  # 출력: (18, 6.0)"
   ]
  },
  {
   "cell_type": "code",
   "execution_count": null,
   "id": "05015fbb",
   "metadata": {},
   "outputs": [],
   "source": [
    "## 조건에 따라 다른 값을 리턴하는 함수\n",
    "\n",
    "def check_pass(score):\n",
    "    if score >= 60:\n",
    "        return \"Pass\"\n",
    "    else:\n",
    "        return \"Fail\"\n"
   ]
  },
  {
   "cell_type": "code",
   "execution_count": null,
   "id": "9773e83d",
   "metadata": {},
   "outputs": [],
   "source": [
    "## 짝수 홀수 구분하는 함수\n",
    "\n",
    "def check_even_or_odd(num):\n",
    "    if num % 2 == 0:\n",
    "        return \"Even\"\n",
    "    else:\n",
    "        return \"Odd\""
   ]
  },
  {
   "cell_type": "code",
   "execution_count": null,
   "id": "4aa2db7f",
   "metadata": {},
   "outputs": [],
   "source": [
    "## 터너리로 작성한 0 구별함수수\n",
    "\n",
    "def check_zero(num):\n",
    "    return \"Zero\" if num == 0 else \"Non-zero\""
   ]
  }
 ],
 "metadata": {
  "kernelspec": {
   "display_name": "Python 3",
   "language": "python",
   "name": "python3"
  },
  "language_info": {
   "codemirror_mode": {
    "name": "ipython",
    "version": 3
   },
   "file_extension": ".py",
   "mimetype": "text/x-python",
   "name": "python",
   "nbconvert_exporter": "python",
   "pygments_lexer": "ipython3",
   "version": "3.12.5"
  }
 },
 "nbformat": 4,
 "nbformat_minor": 5
}
