{
 "cells": [
  {
   "cell_type": "code",
   "execution_count": 4,
   "id": "872c93b5",
   "metadata": {},
   "outputs": [
    {
     "ename": "AttributeError",
     "evalue": "module 'my_package.converter' has no attribute 'kg_to_lb'",
     "output_type": "error",
     "traceback": [
      "\u001b[1;31m---------------------------------------------------------------------------\u001b[0m",
      "\u001b[1;31mAttributeError\u001b[0m                            Traceback (most recent call last)",
      "Cell \u001b[1;32mIn[4], line 4\u001b[0m\n\u001b[0;32m      1\u001b[0m \u001b[38;5;66;03m# 방법 1: 모듈 전체 가져오기\u001b[39;00m\n\u001b[0;32m      2\u001b[0m \u001b[38;5;28;01mimport\u001b[39;00m \u001b[38;5;21;01mmy_package\u001b[39;00m\u001b[38;5;21;01m.\u001b[39;00m\u001b[38;5;21;01mconverter\u001b[39;00m\n\u001b[1;32m----> 4\u001b[0m result \u001b[38;5;241m=\u001b[39m \u001b[43mmy_package\u001b[49m\u001b[38;5;241;43m.\u001b[39;49m\u001b[43mconverter\u001b[49m\u001b[38;5;241;43m.\u001b[39;49m\u001b[43mkg_to_lb\u001b[49m(\u001b[38;5;241m10\u001b[39m)\n\u001b[0;32m      5\u001b[0m \u001b[38;5;28mprint\u001b[39m(result)\n\u001b[0;32m      7\u001b[0m \u001b[38;5;66;03m# 방법 2: from import 사용\u001b[39;00m\n",
      "\u001b[1;31mAttributeError\u001b[0m: module 'my_package.converter' has no attribute 'kg_to_lb'"
     ]
    }
   ],
   "source": [
    "# 방법 1: 모듈 전체 가져오기\n",
    "import my_package.converter\n",
    "\n",
    "result = my_package.converter.kg_to_lb(10)\n",
    "print(result)\n",
    "\n",
    "# 방법 2: from import 사용\n",
    "from my_package.converter import kg_to_lb\n",
    "\n",
    "print(kg_to_lb(5))\n",
    "\n",
    "# 방법 3: as 별칭\n",
    "import my_package.converter as conv\n",
    "\n",
    "print(conv.lb_to_kg(22))\n"
   ]
  }
 ],
 "metadata": {
  "kernelspec": {
   "display_name": "Python 3",
   "language": "python",
   "name": "python3"
  },
  "language_info": {
   "codemirror_mode": {
    "name": "ipython",
    "version": 3
   },
   "file_extension": ".py",
   "mimetype": "text/x-python",
   "name": "python",
   "nbconvert_exporter": "python",
   "pygments_lexer": "ipython3",
   "version": "3.12.5"
  }
 },
 "nbformat": 4,
 "nbformat_minor": 5
}
