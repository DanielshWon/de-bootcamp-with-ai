{
 "cells": [
  {
   "cell_type": "code",
   "execution_count": 1,
   "id": "872c93b5",
   "metadata": {},
   "outputs": [
    {
     "name": "stdout",
     "output_type": "stream",
     "text": [
      "22.0462\n",
      "11.0231\n",
      "9.979044007584074\n"
     ]
    }
   ],
   "source": [
    "# 방법 1: 모듈 전체 가져오기\n",
    "import my_package.converter\n",
    "\n",
    "result = my_package.converter.kg_to_lb(10)\n",
    "print(result)\n",
    "\n",
    "# 방법 2: from import 사용\n",
    "from my_package.converter import kg_to_lb\n",
    "\n",
    "print(kg_to_lb(5))\n",
    "\n",
    "# 방법 3: as 별칭\n",
    "import my_package.converter as conv\n",
    "\n",
    "print(conv.lb_to_kg(22))\n"
   ]
  },
  {
   "cell_type": "code",
   "execution_count": null,
   "id": "dd9e6059",
   "metadata": {},
   "outputs": [
    {
     "name": "stdout",
     "output_type": "stream",
     "text": [
      "35\n"
     ]
    }
   ],
   "source": [
    "## 5 와 7 을 곱하는 코드드\n",
    "\n",
    "from my_package.calculator import multiply\n",
    "\n",
    "print(multiply(5,7))"
   ]
  },
  {
   "cell_type": "code",
   "execution_count": 4,
   "id": "8a10b3cf",
   "metadata": {},
   "outputs": [
    {
     "name": "stdout",
     "output_type": "stream",
     "text": [
      "Hello, 승환!\n",
      "Goodbye, 승환!\n"
     ]
    }
   ],
   "source": [
    "from my_package.greetings import say_hello, say_goodbye\n",
    "\n",
    "print(say_hello(\"승환\"))\n",
    "print(say_goodbye(\"승환\"))\n"
   ]
  }
 ],
 "metadata": {
  "kernelspec": {
   "display_name": "Python 3",
   "language": "python",
   "name": "python3"
  },
  "language_info": {
   "codemirror_mode": {
    "name": "ipython",
    "version": 3
   },
   "file_extension": ".py",
   "mimetype": "text/x-python",
   "name": "python",
   "nbconvert_exporter": "python",
   "pygments_lexer": "ipython3",
   "version": "3.12.5"
  }
 },
 "nbformat": 4,
 "nbformat_minor": 5
}
