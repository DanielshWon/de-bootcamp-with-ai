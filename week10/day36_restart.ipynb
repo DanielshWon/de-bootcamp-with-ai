{
 "cells": [
  {
   "cell_type": "code",
   "execution_count": 4,
   "id": "24c4df0f",
   "metadata": {},
   "outputs": [
    {
     "name": "stdout",
     "output_type": "stream",
     "text": [
      "문제 3:\n",
      "평균: 30.0\n"
     ]
    }
   ],
   "source": [
    "# 문제 3: 함수 이해\n",
    "print(\"문제 3:\")\n",
    "def calculate_average(numbers):\n",
    "    total = sum(numbers)\n",
    "    count = len(numbers)\n",
    "    return total / count\n",
    "\n",
    "# TODO: 이 함수 실행해보기\n",
    "test_numbers = [10, 20, 30, 40, 50]\n",
    "avg = calculate_average(test_numbers)\n",
    "print(\"평균:\", avg)\n"
   ]
  },
  {
   "cell_type": "code",
   "execution_count": null,
   "id": "d24b39d9",
   "metadata": {},
   "outputs": [],
   "source": [
    "# Week 10 Day 1 - 현실 체크 테스트\n",
    "# 한 달 만 복귀 후 Python 실력 측정\n",
    "\n",
    "print(\"=== 승환님 Python 현실 체크 ===\")\n",
    "print()\n",
    "\n",
    "# 문제 1: 기초 반복문 + 조건문\n",
    "print(\"문제 1:\")\n",
    "numbers = [1, 2, 3, 4, 5]\n",
    "result = []\n",
    "for num in numbers:\n",
    "    if num % 2 == 0:\n",
    "        result.append(num * 2)\n",
    "\n",
    "print(\"결과:\", result)\n",
    "print(\"예상했던 답:\", \"[4,8]\")  # 여기에 예상 답 적어보세요\n",
    "print()\n",
    "\n",
    "# 문제 2: 딕셔너리 기본 조작\n",
    "print(\"문제 2:\")\n",
    "data = {'name': '승환', 'age': 25, 'city': '서울'}\n",
    "print(\"원래 데이터:\", data)\n",
    "\n",
    "# TODO: 여기에 'job': '학생' 추가하는 코드 작성\n",
    "# data[?] = ?\n",
    "# 딕셔너리구조에 추가하는 방법이  기억이안남\n",
    "\n",
    "print(\"추가 후:\", data)\n",
    "print()\n",
    "\n",
    "# 문제 3: 함수 이해\n",
    "print(\"문제 3:\")\n",
    "def calculate_average(numbers):\n",
    "    total = sum(numbers)\n",
    "    count = len(numbers)\n",
    "    return total / count\n",
    "\n",
    "# TODO: 이 함수 실행해보기\n",
    "test_numbers = [10, 20, 30, 40, 50]\n",
    "avg = calculate_average(test_numbers)\n",
    "print(\"평균:\", avg)\n",
    "\n",
    "print()\n",
    "print(\"=== 자가 평가 ===\")\n",
    "print(\"현재 내 Python 레벨 (1-10):\", \"1.5\")\n",
    "print(\"기억나는 것들:함수 작동하는것과 대충 코드의 작동방식\", \"작동\")\n",
    "print(\"까먹은 것들:딕셔너리 추가방법\", \"\")\n",
    "print(\"가장 불안한 부분:이제 week10으로 접어들엇지만 한달쉼으로인해 파이썬기초도 까먹어서 앞으로 프로젝트는 할수있을지\n",
    "      가장 불안함.\", \"\")"
   ]
  },
  {
   "cell_type": "code",
   "execution_count": null,
   "id": "eba982da",
   "metadata": {},
   "outputs": [
    {
     "name": "stdout",
     "output_type": "stream",
     "text": [
      "{'name': '승환', 'job': '학생', 'age': 25}\n",
      "{'name': '승환', 'job': '학생', 'age': 30}\n"
     ]
    }
   ],
   "source": [
    "# 딕셔너리 기본 - 바로 해보세요!\n",
    "data = {'name': '승환'}\n",
    "data['job'] = '학생'        # 추가\n",
    "data['age'] = 25           # 추가\n",
    "print(data)                # 확인\n",
    "\n",
    "\n",
    "# 수정도 같은 방식\n",
    "data['age'] = 30           # 수정\n",
    "print(data)"
   ]
  },
  {
   "cell_type": "code",
   "execution_count": 7,
   "id": "2fcd93b8",
   "metadata": {},
   "outputs": [
    {
     "name": "stdout",
     "output_type": "stream",
     "text": [
      "=== 딕셔너리 기본 복구 ===\n",
      "\n",
      "원래: {'name': '승환', 'age': 25}\n",
      "추가 후: {'name': '승환', 'age': 25, 'job': '학생', 'city': '서울'}\n",
      "\n",
      "수정 후: {'name': '승환', 'age': 26, 'job': '학생', 'city': '서울'}\n",
      "\n",
      "이름: 승환\n",
      "나이: 26\n",
      "\n",
      "취미 추가: {'name': '승환', 'age': 26, 'job': '학생', 'city': '서울', 'hobbies': ['코딩', '게임', '독서']}\n",
      "\n",
      "=== 복구 완료! ===\n",
      "기억났나요? dict['key'] = value\n"
     ]
    }
   ],
   "source": [
    "print(\"=== 딕셔너리 기본 복구 ===\")\n",
    "print()\n",
    "\n",
    "# 1. 기본 추가\n",
    "data = {'name': '승환', 'age': 25}\n",
    "print(\"원래:\", data)\n",
    "\n",
    "data['job'] = '학생'        # 새로운 키-값 추가\n",
    "data['city'] = '서울'       # 또 하나 추가\n",
    "print(\"추가 후:\", data)\n",
    "print()\n",
    "\n",
    "# 2. 수정도 같은 방식\n",
    "data['age'] = 26           # 기존 값 수정\n",
    "print(\"수정 후:\", data)\n",
    "print()\n",
    "\n",
    "# 3. 접근하기\n",
    "print(\"이름:\", data['name'])\n",
    "print(\"나이:\", data['age'])\n",
    "print()\n",
    "\n",
    "# 4. 응용 - 리스트도 값으로 가능\n",
    "data['hobbies'] = ['코딩', '게임', '독서']\n",
    "print(\"취미 추가:\", data)\n",
    "print()\n",
    "\n",
    "print(\"=== 복구 완료! ===\")\n",
    "print(\"기억났나요? dict['key'] = value\")"
   ]
  }
 ],
 "metadata": {
  "kernelspec": {
   "display_name": "Python 3",
   "language": "python",
   "name": "python3"
  },
  "language_info": {
   "codemirror_mode": {
    "name": "ipython",
    "version": 3
   },
   "file_extension": ".py",
   "mimetype": "text/x-python",
   "name": "python",
   "nbconvert_exporter": "python",
   "pygments_lexer": "ipython3",
   "version": "3.12.5"
  }
 },
 "nbformat": 4,
 "nbformat_minor": 5
}
